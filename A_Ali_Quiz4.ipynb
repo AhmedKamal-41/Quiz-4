{
  "nbformat": 4,
  "nbformat_minor": 0,
  "metadata": {
    "colab": {
      "provenance": []
    },
    "kernelspec": {
      "name": "python3",
      "display_name": "Python 3"
    },
    "language_info": {
      "name": "python"
    }
  },
  "cells": [
    {
      "cell_type": "markdown",
      "source": [
        "##**Quiz 4** – Logistic Regression\n",
        "**Author:** Ahmed Ali  \n",
        "**Date:** June 16, 2025  \n",
        "\n",
        "## **Part A: Introduction**\n",
        "\n",
        "The **Boston HMDA (Home Mortgage Disclosure Act)** dataset includes data on **2,381** mortgage applications collected by the Federal Reserve Bank of Boston. Each record contains various financial and demographic features of the applicant, including income ratios, credit scores, employment status, and race, along with a final decision on whether the mortgage was **denied or approved**.\n",
        "\n",
        "The primary goal of this project is to build **binary logistic regression models** that predict whether a mortgage application is likely to be **denied** (`deny = 1`) or **approved** (`deny = 0`). The output of these models can help regulators detect patterns or potential bias in loan approval decisions.\n",
        "\n",
        "---\n",
        "\n",
        "### Steps in This Project:\n",
        "1. **Load** the cleaned dataset and review its structure.\n",
        "2. Perform **Exploratory Data Analysis (EDA)** to understand distributions, detect patterns, and find missing values.\n",
        "3. Carry out **Data Preparation** by fixing missing values, encoding categorical variables, and renaming any incorrect column headers.\n",
        "4. Conduct a **Prepped Data Review** to confirm the dataset is clean and ready for modeling.\n",
        "5. Build and compare **multiple logistic regression models** using different feature selection strategies.\n",
        "6. **Evaluate and select** the best model using cross-validation and performance metrics.\n",
        "7. Provide **conclusions** about model behavior and future improvements.\n",
        "\n",
        "This structured approach ensures that the final model is both accurate and interpretable, while fulfilling the project’s overall goal.\n",
        "\n",
        "---\n"
      ],
      "metadata": {
        "id": "VbfssAUIy2Go"
      }
    },
    {
      "cell_type": "markdown",
      "source": [
        "## **Part B: Exploratory Data Analysis (EDA)**\n",
        "\n",
        "In this section, we analyze the structure and contents of the HMDA dataset. Our goals are to:\n",
        "- Understand variable types (numerical or categorical)\n",
        "- Detect missing values or anomalies\n",
        "- Examine the distribution of each feature\n",
        "- Explore the relationship between individual features and the target variable `deny`\n",
        "\n",
        "These insights will help guide our cleaning and model preparation steps.\n",
        "\n",
        "\n",
        "1.   List item\n",
        "2.   List item\n",
        "\n"
      ],
      "metadata": {
        "id": "xvTsyQmnzEvf"
      }
    },
    {
      "cell_type": "markdown",
      "source": [
        "### **1.Importing and Loading the Data**"
      ],
      "metadata": {
        "id": "UfUh01BCf4uY"
      }
    },
    {
      "cell_type": "markdown",
      "source": [
        "SETUP AND IMPORTS\n"
      ],
      "metadata": {
        "id": "HVqArYT9adMp"
      }
    },
    {
      "cell_type": "code",
      "source": [
        "import pandas as pd\n",
        "import numpy as np\n",
        "import matplotlib.pyplot as plt\n",
        "import seaborn as sns\n",
        "from sklearn.model_selection import train_test_split\n",
        "from sklearn.linear_model import LogisticRegression\n",
        "from sklearn.preprocessing import StandardScaler\n",
        "from sklearn.tree import DecisionTreeClassifier\n",
        "from sklearn.feature_selection import SelectKBest, f_classif\n",
        "from sklearn.metrics import classification_report\n",
        "from sklearn.model_selection import train_test_split\n",
        "from sklearn.tree import DecisionTreeClassifier\n",
        "from sklearn.model_selection import cross_val_score\n",
        "from sklearn.linear_model import LogisticRegression\n",
        "import numpy as np\n",
        "import pandas as pd\n",
        "from sklearn.metrics import accuracy_score"
      ],
      "metadata": {
        "id": "kSZjcvoUzfUe"
      },
      "execution_count": 2,
      "outputs": []
    },
    {
      "cell_type": "code",
      "execution_count": 3,
      "metadata": {
        "colab": {
          "base_uri": "https://localhost:8080/",
          "height": 206
        },
        "id": "tLQjmNIhtWms",
        "outputId": "db238e86-c634-498c-9a20-33db8de6c42e"
      },
      "outputs": [
        {
          "output_type": "execute_result",
          "data": {
            "text/plain": [
              "   Unnamed: 0    dir    hir       lvr  ccs  mcs pbcr dmi self single  uria  \\\n",
              "0           1  0.221  0.221  0.800000  5.0  2.0   no  no   no     no   3.9   \n",
              "1           2  0.265  0.265  0.921875  2.0  2.0   no  no   no    yes   3.2   \n",
              "2           3  0.372  0.248  0.920398  1.0  2.0   no  no   no     no   3.2   \n",
              "3           4  0.320  0.250  0.860465  1.0  2.0   no  no   no     no   4.3   \n",
              "4           5  0.360  0.350  0.600000  1.0  1.0   no  no   no     no   3.2   \n",
              "\n",
              "   comdominiom black deny  \n",
              "0            0    no   no  \n",
              "1            0    no   no  \n",
              "2            0    no   no  \n",
              "3            0    no   no  \n",
              "4            0    no   no  "
            ],
            "text/html": [
              "\n",
              "  <div id=\"df-eb630adb-0da5-4bbb-b6c8-094285cb0b3d\" class=\"colab-df-container\">\n",
              "    <div>\n",
              "<style scoped>\n",
              "    .dataframe tbody tr th:only-of-type {\n",
              "        vertical-align: middle;\n",
              "    }\n",
              "\n",
              "    .dataframe tbody tr th {\n",
              "        vertical-align: top;\n",
              "    }\n",
              "\n",
              "    .dataframe thead th {\n",
              "        text-align: right;\n",
              "    }\n",
              "</style>\n",
              "<table border=\"1\" class=\"dataframe\">\n",
              "  <thead>\n",
              "    <tr style=\"text-align: right;\">\n",
              "      <th></th>\n",
              "      <th>Unnamed: 0</th>\n",
              "      <th>dir</th>\n",
              "      <th>hir</th>\n",
              "      <th>lvr</th>\n",
              "      <th>ccs</th>\n",
              "      <th>mcs</th>\n",
              "      <th>pbcr</th>\n",
              "      <th>dmi</th>\n",
              "      <th>self</th>\n",
              "      <th>single</th>\n",
              "      <th>uria</th>\n",
              "      <th>comdominiom</th>\n",
              "      <th>black</th>\n",
              "      <th>deny</th>\n",
              "    </tr>\n",
              "  </thead>\n",
              "  <tbody>\n",
              "    <tr>\n",
              "      <th>0</th>\n",
              "      <td>1</td>\n",
              "      <td>0.221</td>\n",
              "      <td>0.221</td>\n",
              "      <td>0.800000</td>\n",
              "      <td>5.0</td>\n",
              "      <td>2.0</td>\n",
              "      <td>no</td>\n",
              "      <td>no</td>\n",
              "      <td>no</td>\n",
              "      <td>no</td>\n",
              "      <td>3.9</td>\n",
              "      <td>0</td>\n",
              "      <td>no</td>\n",
              "      <td>no</td>\n",
              "    </tr>\n",
              "    <tr>\n",
              "      <th>1</th>\n",
              "      <td>2</td>\n",
              "      <td>0.265</td>\n",
              "      <td>0.265</td>\n",
              "      <td>0.921875</td>\n",
              "      <td>2.0</td>\n",
              "      <td>2.0</td>\n",
              "      <td>no</td>\n",
              "      <td>no</td>\n",
              "      <td>no</td>\n",
              "      <td>yes</td>\n",
              "      <td>3.2</td>\n",
              "      <td>0</td>\n",
              "      <td>no</td>\n",
              "      <td>no</td>\n",
              "    </tr>\n",
              "    <tr>\n",
              "      <th>2</th>\n",
              "      <td>3</td>\n",
              "      <td>0.372</td>\n",
              "      <td>0.248</td>\n",
              "      <td>0.920398</td>\n",
              "      <td>1.0</td>\n",
              "      <td>2.0</td>\n",
              "      <td>no</td>\n",
              "      <td>no</td>\n",
              "      <td>no</td>\n",
              "      <td>no</td>\n",
              "      <td>3.2</td>\n",
              "      <td>0</td>\n",
              "      <td>no</td>\n",
              "      <td>no</td>\n",
              "    </tr>\n",
              "    <tr>\n",
              "      <th>3</th>\n",
              "      <td>4</td>\n",
              "      <td>0.320</td>\n",
              "      <td>0.250</td>\n",
              "      <td>0.860465</td>\n",
              "      <td>1.0</td>\n",
              "      <td>2.0</td>\n",
              "      <td>no</td>\n",
              "      <td>no</td>\n",
              "      <td>no</td>\n",
              "      <td>no</td>\n",
              "      <td>4.3</td>\n",
              "      <td>0</td>\n",
              "      <td>no</td>\n",
              "      <td>no</td>\n",
              "    </tr>\n",
              "    <tr>\n",
              "      <th>4</th>\n",
              "      <td>5</td>\n",
              "      <td>0.360</td>\n",
              "      <td>0.350</td>\n",
              "      <td>0.600000</td>\n",
              "      <td>1.0</td>\n",
              "      <td>1.0</td>\n",
              "      <td>no</td>\n",
              "      <td>no</td>\n",
              "      <td>no</td>\n",
              "      <td>no</td>\n",
              "      <td>3.2</td>\n",
              "      <td>0</td>\n",
              "      <td>no</td>\n",
              "      <td>no</td>\n",
              "    </tr>\n",
              "  </tbody>\n",
              "</table>\n",
              "</div>\n",
              "    <div class=\"colab-df-buttons\">\n",
              "\n",
              "  <div class=\"colab-df-container\">\n",
              "    <button class=\"colab-df-convert\" onclick=\"convertToInteractive('df-eb630adb-0da5-4bbb-b6c8-094285cb0b3d')\"\n",
              "            title=\"Convert this dataframe to an interactive table.\"\n",
              "            style=\"display:none;\">\n",
              "\n",
              "  <svg xmlns=\"http://www.w3.org/2000/svg\" height=\"24px\" viewBox=\"0 -960 960 960\">\n",
              "    <path d=\"M120-120v-720h720v720H120Zm60-500h600v-160H180v160Zm220 220h160v-160H400v160Zm0 220h160v-160H400v160ZM180-400h160v-160H180v160Zm440 0h160v-160H620v160ZM180-180h160v-160H180v160Zm440 0h160v-160H620v160Z\"/>\n",
              "  </svg>\n",
              "    </button>\n",
              "\n",
              "  <style>\n",
              "    .colab-df-container {\n",
              "      display:flex;\n",
              "      gap: 12px;\n",
              "    }\n",
              "\n",
              "    .colab-df-convert {\n",
              "      background-color: #E8F0FE;\n",
              "      border: none;\n",
              "      border-radius: 50%;\n",
              "      cursor: pointer;\n",
              "      display: none;\n",
              "      fill: #1967D2;\n",
              "      height: 32px;\n",
              "      padding: 0 0 0 0;\n",
              "      width: 32px;\n",
              "    }\n",
              "\n",
              "    .colab-df-convert:hover {\n",
              "      background-color: #E2EBFA;\n",
              "      box-shadow: 0px 1px 2px rgba(60, 64, 67, 0.3), 0px 1px 3px 1px rgba(60, 64, 67, 0.15);\n",
              "      fill: #174EA6;\n",
              "    }\n",
              "\n",
              "    .colab-df-buttons div {\n",
              "      margin-bottom: 4px;\n",
              "    }\n",
              "\n",
              "    [theme=dark] .colab-df-convert {\n",
              "      background-color: #3B4455;\n",
              "      fill: #D2E3FC;\n",
              "    }\n",
              "\n",
              "    [theme=dark] .colab-df-convert:hover {\n",
              "      background-color: #434B5C;\n",
              "      box-shadow: 0px 1px 3px 1px rgba(0, 0, 0, 0.15);\n",
              "      filter: drop-shadow(0px 1px 2px rgba(0, 0, 0, 0.3));\n",
              "      fill: #FFFFFF;\n",
              "    }\n",
              "  </style>\n",
              "\n",
              "    <script>\n",
              "      const buttonEl =\n",
              "        document.querySelector('#df-eb630adb-0da5-4bbb-b6c8-094285cb0b3d button.colab-df-convert');\n",
              "      buttonEl.style.display =\n",
              "        google.colab.kernel.accessAllowed ? 'block' : 'none';\n",
              "\n",
              "      async function convertToInteractive(key) {\n",
              "        const element = document.querySelector('#df-eb630adb-0da5-4bbb-b6c8-094285cb0b3d');\n",
              "        const dataTable =\n",
              "          await google.colab.kernel.invokeFunction('convertToInteractive',\n",
              "                                                    [key], {});\n",
              "        if (!dataTable) return;\n",
              "\n",
              "        const docLinkHtml = 'Like what you see? Visit the ' +\n",
              "          '<a target=\"_blank\" href=https://colab.research.google.com/notebooks/data_table.ipynb>data table notebook</a>'\n",
              "          + ' to learn more about interactive tables.';\n",
              "        element.innerHTML = '';\n",
              "        dataTable['output_type'] = 'display_data';\n",
              "        await google.colab.output.renderOutput(dataTable, element);\n",
              "        const docLink = document.createElement('div');\n",
              "        docLink.innerHTML = docLinkHtml;\n",
              "        element.appendChild(docLink);\n",
              "      }\n",
              "    </script>\n",
              "  </div>\n",
              "\n",
              "\n",
              "    <div id=\"df-e5ca8035-3788-415a-becc-95958be3b24e\">\n",
              "      <button class=\"colab-df-quickchart\" onclick=\"quickchart('df-e5ca8035-3788-415a-becc-95958be3b24e')\"\n",
              "                title=\"Suggest charts\"\n",
              "                style=\"display:none;\">\n",
              "\n",
              "<svg xmlns=\"http://www.w3.org/2000/svg\" height=\"24px\"viewBox=\"0 0 24 24\"\n",
              "     width=\"24px\">\n",
              "    <g>\n",
              "        <path d=\"M19 3H5c-1.1 0-2 .9-2 2v14c0 1.1.9 2 2 2h14c1.1 0 2-.9 2-2V5c0-1.1-.9-2-2-2zM9 17H7v-7h2v7zm4 0h-2V7h2v10zm4 0h-2v-4h2v4z\"/>\n",
              "    </g>\n",
              "</svg>\n",
              "      </button>\n",
              "\n",
              "<style>\n",
              "  .colab-df-quickchart {\n",
              "      --bg-color: #E8F0FE;\n",
              "      --fill-color: #1967D2;\n",
              "      --hover-bg-color: #E2EBFA;\n",
              "      --hover-fill-color: #174EA6;\n",
              "      --disabled-fill-color: #AAA;\n",
              "      --disabled-bg-color: #DDD;\n",
              "  }\n",
              "\n",
              "  [theme=dark] .colab-df-quickchart {\n",
              "      --bg-color: #3B4455;\n",
              "      --fill-color: #D2E3FC;\n",
              "      --hover-bg-color: #434B5C;\n",
              "      --hover-fill-color: #FFFFFF;\n",
              "      --disabled-bg-color: #3B4455;\n",
              "      --disabled-fill-color: #666;\n",
              "  }\n",
              "\n",
              "  .colab-df-quickchart {\n",
              "    background-color: var(--bg-color);\n",
              "    border: none;\n",
              "    border-radius: 50%;\n",
              "    cursor: pointer;\n",
              "    display: none;\n",
              "    fill: var(--fill-color);\n",
              "    height: 32px;\n",
              "    padding: 0;\n",
              "    width: 32px;\n",
              "  }\n",
              "\n",
              "  .colab-df-quickchart:hover {\n",
              "    background-color: var(--hover-bg-color);\n",
              "    box-shadow: 0 1px 2px rgba(60, 64, 67, 0.3), 0 1px 3px 1px rgba(60, 64, 67, 0.15);\n",
              "    fill: var(--button-hover-fill-color);\n",
              "  }\n",
              "\n",
              "  .colab-df-quickchart-complete:disabled,\n",
              "  .colab-df-quickchart-complete:disabled:hover {\n",
              "    background-color: var(--disabled-bg-color);\n",
              "    fill: var(--disabled-fill-color);\n",
              "    box-shadow: none;\n",
              "  }\n",
              "\n",
              "  .colab-df-spinner {\n",
              "    border: 2px solid var(--fill-color);\n",
              "    border-color: transparent;\n",
              "    border-bottom-color: var(--fill-color);\n",
              "    animation:\n",
              "      spin 1s steps(1) infinite;\n",
              "  }\n",
              "\n",
              "  @keyframes spin {\n",
              "    0% {\n",
              "      border-color: transparent;\n",
              "      border-bottom-color: var(--fill-color);\n",
              "      border-left-color: var(--fill-color);\n",
              "    }\n",
              "    20% {\n",
              "      border-color: transparent;\n",
              "      border-left-color: var(--fill-color);\n",
              "      border-top-color: var(--fill-color);\n",
              "    }\n",
              "    30% {\n",
              "      border-color: transparent;\n",
              "      border-left-color: var(--fill-color);\n",
              "      border-top-color: var(--fill-color);\n",
              "      border-right-color: var(--fill-color);\n",
              "    }\n",
              "    40% {\n",
              "      border-color: transparent;\n",
              "      border-right-color: var(--fill-color);\n",
              "      border-top-color: var(--fill-color);\n",
              "    }\n",
              "    60% {\n",
              "      border-color: transparent;\n",
              "      border-right-color: var(--fill-color);\n",
              "    }\n",
              "    80% {\n",
              "      border-color: transparent;\n",
              "      border-right-color: var(--fill-color);\n",
              "      border-bottom-color: var(--fill-color);\n",
              "    }\n",
              "    90% {\n",
              "      border-color: transparent;\n",
              "      border-bottom-color: var(--fill-color);\n",
              "    }\n",
              "  }\n",
              "</style>\n",
              "\n",
              "      <script>\n",
              "        async function quickchart(key) {\n",
              "          const quickchartButtonEl =\n",
              "            document.querySelector('#' + key + ' button');\n",
              "          quickchartButtonEl.disabled = true;  // To prevent multiple clicks.\n",
              "          quickchartButtonEl.classList.add('colab-df-spinner');\n",
              "          try {\n",
              "            const charts = await google.colab.kernel.invokeFunction(\n",
              "                'suggestCharts', [key], {});\n",
              "          } catch (error) {\n",
              "            console.error('Error during call to suggestCharts:', error);\n",
              "          }\n",
              "          quickchartButtonEl.classList.remove('colab-df-spinner');\n",
              "          quickchartButtonEl.classList.add('colab-df-quickchart-complete');\n",
              "        }\n",
              "        (() => {\n",
              "          let quickchartButtonEl =\n",
              "            document.querySelector('#df-e5ca8035-3788-415a-becc-95958be3b24e button');\n",
              "          quickchartButtonEl.style.display =\n",
              "            google.colab.kernel.accessAllowed ? 'block' : 'none';\n",
              "        })();\n",
              "      </script>\n",
              "    </div>\n",
              "\n",
              "    </div>\n",
              "  </div>\n"
            ],
            "application/vnd.google.colaboratory.intrinsic+json": {
              "type": "dataframe",
              "variable_name": "df",
              "summary": "{\n  \"name\": \"df\",\n  \"rows\": 2381,\n  \"fields\": [\n    {\n      \"column\": \"Unnamed: 0\",\n      \"properties\": {\n        \"dtype\": \"number\",\n        \"std\": 687,\n        \"min\": 1,\n        \"max\": 2381,\n        \"num_unique_values\": 2381,\n        \"samples\": [\n          1415,\n          1076,\n          1377\n        ],\n        \"semantic_type\": \"\",\n        \"description\": \"\"\n      }\n    },\n    {\n      \"column\": \"dir\",\n      \"properties\": {\n        \"dtype\": \"number\",\n        \"std\": 0.10723474919179048,\n        \"min\": 0.0,\n        \"max\": 3.0,\n        \"num_unique_values\": 520,\n        \"samples\": [\n          0.385,\n          0.379799995,\n          0.35\n        ],\n        \"semantic_type\": \"\",\n        \"description\": \"\"\n      }\n    },\n    {\n      \"column\": \"hir\",\n      \"properties\": {\n        \"dtype\": \"number\",\n        \"std\": 0.09663530319201472,\n        \"min\": 0.0,\n        \"max\": 3.0,\n        \"num_unique_values\": 501,\n        \"samples\": [\n          0.334000015,\n          0.238999996,\n          0.275699997\n        ],\n        \"semantic_type\": \"\",\n        \"description\": \"\"\n      }\n    },\n    {\n      \"column\": \"lvr\",\n      \"properties\": {\n        \"dtype\": \"number\",\n        \"std\": 0.17871502914873783,\n        \"min\": 0.02,\n        \"max\": 1.95,\n        \"num_unique_values\": 1538,\n        \"samples\": [\n          0.641350211,\n          0.882352941,\n          0.326923077\n        ],\n        \"semantic_type\": \"\",\n        \"description\": \"\"\n      }\n    },\n    {\n      \"column\": \"ccs\",\n      \"properties\": {\n        \"dtype\": \"number\",\n        \"std\": 1.6663703983079776,\n        \"min\": 1.0,\n        \"max\": 6.0,\n        \"num_unique_values\": 7,\n        \"samples\": [\n          5.0,\n          2.0,\n          4.0\n        ],\n        \"semantic_type\": \"\",\n        \"description\": \"\"\n      }\n    },\n    {\n      \"column\": \"mcs\",\n      \"properties\": {\n        \"dtype\": \"number\",\n        \"std\": 0.537168729196756,\n        \"min\": 1.0,\n        \"max\": 4.0,\n        \"num_unique_values\": 5,\n        \"samples\": [\n          1.0,\n          1.721008403,\n          4.0\n        ],\n        \"semantic_type\": \"\",\n        \"description\": \"\"\n      }\n    },\n    {\n      \"column\": \"pbcr\",\n      \"properties\": {\n        \"dtype\": \"category\",\n        \"num_unique_values\": 2,\n        \"samples\": [\n          \"yes\",\n          \"no\"\n        ],\n        \"semantic_type\": \"\",\n        \"description\": \"\"\n      }\n    },\n    {\n      \"column\": \"dmi\",\n      \"properties\": {\n        \"dtype\": \"category\",\n        \"num_unique_values\": 2,\n        \"samples\": [\n          \"yes\",\n          \"no\"\n        ],\n        \"semantic_type\": \"\",\n        \"description\": \"\"\n      }\n    },\n    {\n      \"column\": \"self\",\n      \"properties\": {\n        \"dtype\": \"category\",\n        \"num_unique_values\": 2,\n        \"samples\": [\n          \"yes\",\n          \"no\"\n        ],\n        \"semantic_type\": \"\",\n        \"description\": \"\"\n      }\n    },\n    {\n      \"column\": \"single\",\n      \"properties\": {\n        \"dtype\": \"category\",\n        \"num_unique_values\": 2,\n        \"samples\": [\n          \"yes\",\n          \"no\"\n        ],\n        \"semantic_type\": \"\",\n        \"description\": \"\"\n      }\n    },\n    {\n      \"column\": \"uria\",\n      \"properties\": {\n        \"dtype\": \"number\",\n        \"std\": 2.0266359486336385,\n        \"min\": 1.799999952,\n        \"max\": 10.60000038,\n        \"num_unique_values\": 11,\n        \"samples\": [\n          10.60000038,\n          3.900000095\n        ],\n        \"semantic_type\": \"\",\n        \"description\": \"\"\n      }\n    },\n    {\n      \"column\": \"comdominiom\",\n      \"properties\": {\n        \"dtype\": \"number\",\n        \"std\": 0,\n        \"min\": 0,\n        \"max\": 1,\n        \"num_unique_values\": 2,\n        \"samples\": [\n          1,\n          0\n        ],\n        \"semantic_type\": \"\",\n        \"description\": \"\"\n      }\n    },\n    {\n      \"column\": \"black\",\n      \"properties\": {\n        \"dtype\": \"category\",\n        \"num_unique_values\": 2,\n        \"samples\": [\n          \"yes\",\n          \"no\"\n        ],\n        \"semantic_type\": \"\",\n        \"description\": \"\"\n      }\n    },\n    {\n      \"column\": \"deny\",\n      \"properties\": {\n        \"dtype\": \"category\",\n        \"num_unique_values\": 2,\n        \"samples\": [\n          \"yes\",\n          \"no\"\n        ],\n        \"semantic_type\": \"\",\n        \"description\": \"\"\n      }\n    }\n  ]\n}"
            }
          },
          "metadata": {},
          "execution_count": 3
        }
      ],
      "source": [
        "url = \"https://raw.githubusercontent.com/AhmedKamal-41/Quiz-4/refs/heads/main/HDMA%20Boston%20Housing%20Data.csv\"\n",
        "\n",
        "# Fix the extra index column issue\n",
        "df = pd.read_csv(url)\n",
        "\n",
        "# Display the first 5 rows\n",
        "df.head()\n"
      ]
    },
    {
      "cell_type": "markdown",
      "source": [
        "We load the cleaned dataset and confirm that it has **2,381** rows and **14** columns. The `.head()` function shows the first few rows, helping us confirm that the data was loaded correctly and has the expected structure.\n"
      ],
      "metadata": {
        "id": "XDqHPGc-zH43"
      }
    },
    {
      "cell_type": "markdown",
      "source": [
        "### Variable Descriptions\n",
        "\n",
        "| Variable       | Meaning                                                                 |\n",
        "|----------------|-------------------------------------------------------------------------|\n",
        "| `dir`          | Debt-to-income ratio — how much of the person’s income goes toward debt payments. Higher values mean more debt. |\n",
        "| `hir`          | Housing-to-income ratio — how much of their income is spent on housing. High values may mean the applicant can't afford a loan. |\n",
        "| `lvr`          | Loan-to-value ratio — the size of the loan compared to the property’s value. A higher ratio means a riskier loan. |\n",
        "| `ccs`          | Consumer credit score (1 = best, 6 = worst) — how good their credit is for general borrowing. |\n",
        "| `mcs`          | Mortgage credit score (1 = best, 4 = worst) — a score just for mortgage-related credit risk. |\n",
        "| `pbcr`         | Public bad credit record — does the person have a known bad credit history? (1 = yes, 0 = no) |\n",
        "| `dmi`          | Denied mortgage insurance — was the person denied insurance that protects the lender? (1 = yes, 0 = no) |\n",
        "| `self`         | Self-employed — is the person working for themselves? (1 = yes, 0 = no) |\n",
        "| `single`       | Single — is the person not married? (1 = yes, 0 = no) |\n",
        "| `uria`         | Industry unemployment rate — how high unemployment was in the person’s industry (in Massachusetts, 1989) |\n",
        "| `condominium`  | Is the property a condo unit? (1 = yes, 0 = no) |\n",
        "| `black`        | Is the applicant Black? (1 = yes, 0 = no) |\n",
        "| `deny`         | Target variable — was the mortgage application denied? (1 = yes, 0 = no) |\n"
      ],
      "metadata": {
        "id": "KFTC-_C08Hgb"
      }
    },
    {
      "cell_type": "markdown",
      "source": [],
      "metadata": {
        "id": "6zSR7HVv8uE5"
      }
    },
    {
      "cell_type": "code",
      "source": [
        "# Rename all columns for clarity\n",
        "df.rename(columns={\n",
        "    'dir': 'debt_to_income_ratio',\n",
        "    'hir': 'housing_to_income_ratio',\n",
        "    'lvr': 'loan_to_value_ratio',\n",
        "    'ccs': 'consumer_credit_score',\n",
        "    'mcs': 'mortgage_credit_score',\n",
        "    'pbcr': 'bad_credit_history',\n",
        "    'dmi': 'denied_mortgage_insurance',\n",
        "    'self': 'self_employed',\n",
        "    'single': 'is_single',\n",
        "    'uria': 'industry_unemployment_rate',\n",
        "    'condominium': 'is_condo',\n",
        "    'black': 'is_black',\n",
        "    'deny': 'application_denied'\n",
        "}, inplace=True)\n"
      ],
      "metadata": {
        "id": "PIuJLnYX8vJh"
      },
      "execution_count": 4,
      "outputs": []
    },
    {
      "cell_type": "markdown",
      "source": [
        "### Rename Columns for Clarity\n",
        "\n",
        "We renamed all columns to more descriptive names for better readability:\n",
        "\n",
        "This makes the data easier to understand when building and interpreting models.\n"
      ],
      "metadata": {
        "id": "f6jQ9XNX81jR"
      }
    },
    {
      "cell_type": "markdown",
      "source": [
        "### **3. Basic Info**"
      ],
      "metadata": {
        "id": "KhZwEZ-vlj7n"
      }
    },
    {
      "cell_type": "code",
      "source": [
        "# Check data types and non-null counts\n",
        "df.info()"
      ],
      "metadata": {
        "colab": {
          "base_uri": "https://localhost:8080/"
        },
        "id": "wLFzomzYz3UM",
        "outputId": "6ab7e158-8d9c-4a30-e497-c47833d04ee2"
      },
      "execution_count": 5,
      "outputs": [
        {
          "output_type": "stream",
          "name": "stdout",
          "text": [
            "<class 'pandas.core.frame.DataFrame'>\n",
            "RangeIndex: 2381 entries, 0 to 2380\n",
            "Data columns (total 14 columns):\n",
            " #   Column                      Non-Null Count  Dtype  \n",
            "---  ------                      --------------  -----  \n",
            " 0   Unnamed: 0                  2381 non-null   int64  \n",
            " 1   debt_to_income_ratio        2381 non-null   float64\n",
            " 2   housing_to_income_ratio     2381 non-null   float64\n",
            " 3   loan_to_value_ratio         2381 non-null   float64\n",
            " 4   consumer_credit_score       2381 non-null   float64\n",
            " 5   mortgage_credit_score       2381 non-null   float64\n",
            " 6   bad_credit_history          2380 non-null   object \n",
            " 7   denied_mortgage_insurance   2381 non-null   object \n",
            " 8   self_employed               2380 non-null   object \n",
            " 9   is_single                   2381 non-null   object \n",
            " 10  industry_unemployment_rate  2381 non-null   float64\n",
            " 11  comdominiom                 2381 non-null   int64  \n",
            " 12  is_black                    2381 non-null   object \n",
            " 13  application_denied          2381 non-null   object \n",
            "dtypes: float64(6), int64(2), object(6)\n",
            "memory usage: 260.6+ KB\n"
          ]
        }
      ]
    },
    {
      "cell_type": "markdown",
      "source": [
        "### Data Types and Null Values\n",
        "\n",
        "The dataset has 2,381 rows and 13 columns.  \n",
        "Only two columns — `bad_credit_history` and `self_employed` — have one missing value each.  \n",
        "Categorical columns like `self_employed`, `is_black`, and `application_denied` are stored as text and need to be converted to numbers.  \n",
        "The `Unnamed: 0` column is just an index from the CSV and can be dropped.  \n",
        "Most other columns are already in numeric format and are ready for use.\n"
      ],
      "metadata": {
        "id": "Vz-XcAkT0TAr"
      }
    },
    {
      "cell_type": "markdown",
      "source": [
        "### **4. Check for Missing Values**"
      ],
      "metadata": {
        "id": "MrPxL77H1jr3"
      }
    },
    {
      "cell_type": "code",
      "source": [
        "df.isnull().sum()"
      ],
      "metadata": {
        "colab": {
          "base_uri": "https://localhost:8080/",
          "height": 523
        },
        "id": "BGL0Rt-N1c8F",
        "outputId": "a577a16a-f507-4a3b-97ca-fb20bd32c277"
      },
      "execution_count": 6,
      "outputs": [
        {
          "output_type": "execute_result",
          "data": {
            "text/plain": [
              "Unnamed: 0                    0\n",
              "debt_to_income_ratio          0\n",
              "housing_to_income_ratio       0\n",
              "loan_to_value_ratio           0\n",
              "consumer_credit_score         0\n",
              "mortgage_credit_score         0\n",
              "bad_credit_history            1\n",
              "denied_mortgage_insurance     0\n",
              "self_employed                 1\n",
              "is_single                     0\n",
              "industry_unemployment_rate    0\n",
              "comdominiom                   0\n",
              "is_black                      0\n",
              "application_denied            0\n",
              "dtype: int64"
            ],
            "text/html": [
              "<div>\n",
              "<style scoped>\n",
              "    .dataframe tbody tr th:only-of-type {\n",
              "        vertical-align: middle;\n",
              "    }\n",
              "\n",
              "    .dataframe tbody tr th {\n",
              "        vertical-align: top;\n",
              "    }\n",
              "\n",
              "    .dataframe thead th {\n",
              "        text-align: right;\n",
              "    }\n",
              "</style>\n",
              "<table border=\"1\" class=\"dataframe\">\n",
              "  <thead>\n",
              "    <tr style=\"text-align: right;\">\n",
              "      <th></th>\n",
              "      <th>0</th>\n",
              "    </tr>\n",
              "  </thead>\n",
              "  <tbody>\n",
              "    <tr>\n",
              "      <th>Unnamed: 0</th>\n",
              "      <td>0</td>\n",
              "    </tr>\n",
              "    <tr>\n",
              "      <th>debt_to_income_ratio</th>\n",
              "      <td>0</td>\n",
              "    </tr>\n",
              "    <tr>\n",
              "      <th>housing_to_income_ratio</th>\n",
              "      <td>0</td>\n",
              "    </tr>\n",
              "    <tr>\n",
              "      <th>loan_to_value_ratio</th>\n",
              "      <td>0</td>\n",
              "    </tr>\n",
              "    <tr>\n",
              "      <th>consumer_credit_score</th>\n",
              "      <td>0</td>\n",
              "    </tr>\n",
              "    <tr>\n",
              "      <th>mortgage_credit_score</th>\n",
              "      <td>0</td>\n",
              "    </tr>\n",
              "    <tr>\n",
              "      <th>bad_credit_history</th>\n",
              "      <td>1</td>\n",
              "    </tr>\n",
              "    <tr>\n",
              "      <th>denied_mortgage_insurance</th>\n",
              "      <td>0</td>\n",
              "    </tr>\n",
              "    <tr>\n",
              "      <th>self_employed</th>\n",
              "      <td>1</td>\n",
              "    </tr>\n",
              "    <tr>\n",
              "      <th>is_single</th>\n",
              "      <td>0</td>\n",
              "    </tr>\n",
              "    <tr>\n",
              "      <th>industry_unemployment_rate</th>\n",
              "      <td>0</td>\n",
              "    </tr>\n",
              "    <tr>\n",
              "      <th>comdominiom</th>\n",
              "      <td>0</td>\n",
              "    </tr>\n",
              "    <tr>\n",
              "      <th>is_black</th>\n",
              "      <td>0</td>\n",
              "    </tr>\n",
              "    <tr>\n",
              "      <th>application_denied</th>\n",
              "      <td>0</td>\n",
              "    </tr>\n",
              "  </tbody>\n",
              "</table>\n",
              "</div><br><label><b>dtype:</b> int64</label>"
            ]
          },
          "metadata": {},
          "execution_count": 6
        }
      ]
    },
    {
      "cell_type": "markdown",
      "source": [
        "### **5. Check for Duplicates**"
      ],
      "metadata": {
        "id": "7B0NNaqq1qPH"
      }
    },
    {
      "cell_type": "code",
      "source": [
        "# Check for duplicate rows excluding the 'Unnamed: 0' column\n",
        "df_no_index = df.drop(columns=['Unnamed: 0']) if 'Unnamed: 0' in df.columns else df\n",
        "df_no_index.duplicated().sum()\n"
      ],
      "metadata": {
        "colab": {
          "base_uri": "https://localhost:8080/"
        },
        "id": "nugrNhiy1qsm",
        "outputId": "534db32e-f453-40ff-ab3f-21219573596c"
      },
      "execution_count": 7,
      "outputs": [
        {
          "output_type": "execute_result",
          "data": {
            "text/plain": [
              "np.int64(3)"
            ]
          },
          "metadata": {},
          "execution_count": 7
        }
      ]
    },
    {
      "cell_type": "markdown",
      "source": [
        "we check for duplicate rows ignoring the column `Unnamed: 0` index column.  \n",
        "The result shows there are **3 duplicates** in the dataset."
      ],
      "metadata": {
        "id": "-Itgy3WC1zPO"
      }
    },
    {
      "cell_type": "markdown",
      "source": [
        "### **6. Descriptive Statistics**"
      ],
      "metadata": {
        "id": "Jrt1YaA7ib94"
      }
    },
    {
      "cell_type": "code",
      "source": [
        "# Quick statistics for numeric columns\n",
        "df.describe()"
      ],
      "metadata": {
        "colab": {
          "base_uri": "https://localhost:8080/",
          "height": 300
        },
        "id": "zonOACk22cvc",
        "outputId": "adee8df7-2c3b-4766-af01-eb0f497949f5"
      },
      "execution_count": 8,
      "outputs": [
        {
          "output_type": "execute_result",
          "data": {
            "text/plain": [
              "        Unnamed: 0  debt_to_income_ratio  housing_to_income_ratio  \\\n",
              "count  2381.000000           2381.000000              2381.000000   \n",
              "mean   1191.000000              0.330814                 0.255346   \n",
              "std     687.479818              0.107235                 0.096635   \n",
              "min       1.000000              0.000000                 0.000000   \n",
              "25%     596.000000              0.280000                 0.214000   \n",
              "50%    1191.000000              0.330000                 0.260000   \n",
              "75%    1786.000000              0.370000                 0.298800   \n",
              "max    2381.000000              3.000000                 3.000000   \n",
              "\n",
              "       loan_to_value_ratio  consumer_credit_score  mortgage_credit_score  \\\n",
              "count          2381.000000            2381.000000            2381.000000   \n",
              "mean              0.737760               2.116387               1.721008   \n",
              "std               0.178715               1.666370               0.537169   \n",
              "min               0.020000               1.000000               1.000000   \n",
              "25%               0.652850               1.000000               1.000000   \n",
              "50%               0.779412               1.000000               2.000000   \n",
              "75%               0.868421               2.000000               2.000000   \n",
              "max               1.950000               6.000000               4.000000   \n",
              "\n",
              "       industry_unemployment_rate  comdominiom  \n",
              "count                 2381.000000  2381.000000  \n",
              "mean                     3.774496     0.288114  \n",
              "std                      2.026636     0.452980  \n",
              "min                      1.800000     0.000000  \n",
              "25%                      3.100000     0.000000  \n",
              "50%                      3.200000     0.000000  \n",
              "75%                      3.900000     1.000000  \n",
              "max                     10.600000     1.000000  "
            ],
            "text/html": [
              "\n",
              "  <div id=\"df-7d4d2698-6fda-4896-ae00-7e41b0e8fb4c\" class=\"colab-df-container\">\n",
              "    <div>\n",
              "<style scoped>\n",
              "    .dataframe tbody tr th:only-of-type {\n",
              "        vertical-align: middle;\n",
              "    }\n",
              "\n",
              "    .dataframe tbody tr th {\n",
              "        vertical-align: top;\n",
              "    }\n",
              "\n",
              "    .dataframe thead th {\n",
              "        text-align: right;\n",
              "    }\n",
              "</style>\n",
              "<table border=\"1\" class=\"dataframe\">\n",
              "  <thead>\n",
              "    <tr style=\"text-align: right;\">\n",
              "      <th></th>\n",
              "      <th>Unnamed: 0</th>\n",
              "      <th>debt_to_income_ratio</th>\n",
              "      <th>housing_to_income_ratio</th>\n",
              "      <th>loan_to_value_ratio</th>\n",
              "      <th>consumer_credit_score</th>\n",
              "      <th>mortgage_credit_score</th>\n",
              "      <th>industry_unemployment_rate</th>\n",
              "      <th>comdominiom</th>\n",
              "    </tr>\n",
              "  </thead>\n",
              "  <tbody>\n",
              "    <tr>\n",
              "      <th>count</th>\n",
              "      <td>2381.000000</td>\n",
              "      <td>2381.000000</td>\n",
              "      <td>2381.000000</td>\n",
              "      <td>2381.000000</td>\n",
              "      <td>2381.000000</td>\n",
              "      <td>2381.000000</td>\n",
              "      <td>2381.000000</td>\n",
              "      <td>2381.000000</td>\n",
              "    </tr>\n",
              "    <tr>\n",
              "      <th>mean</th>\n",
              "      <td>1191.000000</td>\n",
              "      <td>0.330814</td>\n",
              "      <td>0.255346</td>\n",
              "      <td>0.737760</td>\n",
              "      <td>2.116387</td>\n",
              "      <td>1.721008</td>\n",
              "      <td>3.774496</td>\n",
              "      <td>0.288114</td>\n",
              "    </tr>\n",
              "    <tr>\n",
              "      <th>std</th>\n",
              "      <td>687.479818</td>\n",
              "      <td>0.107235</td>\n",
              "      <td>0.096635</td>\n",
              "      <td>0.178715</td>\n",
              "      <td>1.666370</td>\n",
              "      <td>0.537169</td>\n",
              "      <td>2.026636</td>\n",
              "      <td>0.452980</td>\n",
              "    </tr>\n",
              "    <tr>\n",
              "      <th>min</th>\n",
              "      <td>1.000000</td>\n",
              "      <td>0.000000</td>\n",
              "      <td>0.000000</td>\n",
              "      <td>0.020000</td>\n",
              "      <td>1.000000</td>\n",
              "      <td>1.000000</td>\n",
              "      <td>1.800000</td>\n",
              "      <td>0.000000</td>\n",
              "    </tr>\n",
              "    <tr>\n",
              "      <th>25%</th>\n",
              "      <td>596.000000</td>\n",
              "      <td>0.280000</td>\n",
              "      <td>0.214000</td>\n",
              "      <td>0.652850</td>\n",
              "      <td>1.000000</td>\n",
              "      <td>1.000000</td>\n",
              "      <td>3.100000</td>\n",
              "      <td>0.000000</td>\n",
              "    </tr>\n",
              "    <tr>\n",
              "      <th>50%</th>\n",
              "      <td>1191.000000</td>\n",
              "      <td>0.330000</td>\n",
              "      <td>0.260000</td>\n",
              "      <td>0.779412</td>\n",
              "      <td>1.000000</td>\n",
              "      <td>2.000000</td>\n",
              "      <td>3.200000</td>\n",
              "      <td>0.000000</td>\n",
              "    </tr>\n",
              "    <tr>\n",
              "      <th>75%</th>\n",
              "      <td>1786.000000</td>\n",
              "      <td>0.370000</td>\n",
              "      <td>0.298800</td>\n",
              "      <td>0.868421</td>\n",
              "      <td>2.000000</td>\n",
              "      <td>2.000000</td>\n",
              "      <td>3.900000</td>\n",
              "      <td>1.000000</td>\n",
              "    </tr>\n",
              "    <tr>\n",
              "      <th>max</th>\n",
              "      <td>2381.000000</td>\n",
              "      <td>3.000000</td>\n",
              "      <td>3.000000</td>\n",
              "      <td>1.950000</td>\n",
              "      <td>6.000000</td>\n",
              "      <td>4.000000</td>\n",
              "      <td>10.600000</td>\n",
              "      <td>1.000000</td>\n",
              "    </tr>\n",
              "  </tbody>\n",
              "</table>\n",
              "</div>\n",
              "    <div class=\"colab-df-buttons\">\n",
              "\n",
              "  <div class=\"colab-df-container\">\n",
              "    <button class=\"colab-df-convert\" onclick=\"convertToInteractive('df-7d4d2698-6fda-4896-ae00-7e41b0e8fb4c')\"\n",
              "            title=\"Convert this dataframe to an interactive table.\"\n",
              "            style=\"display:none;\">\n",
              "\n",
              "  <svg xmlns=\"http://www.w3.org/2000/svg\" height=\"24px\" viewBox=\"0 -960 960 960\">\n",
              "    <path d=\"M120-120v-720h720v720H120Zm60-500h600v-160H180v160Zm220 220h160v-160H400v160Zm0 220h160v-160H400v160ZM180-400h160v-160H180v160Zm440 0h160v-160H620v160ZM180-180h160v-160H180v160Zm440 0h160v-160H620v160Z\"/>\n",
              "  </svg>\n",
              "    </button>\n",
              "\n",
              "  <style>\n",
              "    .colab-df-container {\n",
              "      display:flex;\n",
              "      gap: 12px;\n",
              "    }\n",
              "\n",
              "    .colab-df-convert {\n",
              "      background-color: #E8F0FE;\n",
              "      border: none;\n",
              "      border-radius: 50%;\n",
              "      cursor: pointer;\n",
              "      display: none;\n",
              "      fill: #1967D2;\n",
              "      height: 32px;\n",
              "      padding: 0 0 0 0;\n",
              "      width: 32px;\n",
              "    }\n",
              "\n",
              "    .colab-df-convert:hover {\n",
              "      background-color: #E2EBFA;\n",
              "      box-shadow: 0px 1px 2px rgba(60, 64, 67, 0.3), 0px 1px 3px 1px rgba(60, 64, 67, 0.15);\n",
              "      fill: #174EA6;\n",
              "    }\n",
              "\n",
              "    .colab-df-buttons div {\n",
              "      margin-bottom: 4px;\n",
              "    }\n",
              "\n",
              "    [theme=dark] .colab-df-convert {\n",
              "      background-color: #3B4455;\n",
              "      fill: #D2E3FC;\n",
              "    }\n",
              "\n",
              "    [theme=dark] .colab-df-convert:hover {\n",
              "      background-color: #434B5C;\n",
              "      box-shadow: 0px 1px 3px 1px rgba(0, 0, 0, 0.15);\n",
              "      filter: drop-shadow(0px 1px 2px rgba(0, 0, 0, 0.3));\n",
              "      fill: #FFFFFF;\n",
              "    }\n",
              "  </style>\n",
              "\n",
              "    <script>\n",
              "      const buttonEl =\n",
              "        document.querySelector('#df-7d4d2698-6fda-4896-ae00-7e41b0e8fb4c button.colab-df-convert');\n",
              "      buttonEl.style.display =\n",
              "        google.colab.kernel.accessAllowed ? 'block' : 'none';\n",
              "\n",
              "      async function convertToInteractive(key) {\n",
              "        const element = document.querySelector('#df-7d4d2698-6fda-4896-ae00-7e41b0e8fb4c');\n",
              "        const dataTable =\n",
              "          await google.colab.kernel.invokeFunction('convertToInteractive',\n",
              "                                                    [key], {});\n",
              "        if (!dataTable) return;\n",
              "\n",
              "        const docLinkHtml = 'Like what you see? Visit the ' +\n",
              "          '<a target=\"_blank\" href=https://colab.research.google.com/notebooks/data_table.ipynb>data table notebook</a>'\n",
              "          + ' to learn more about interactive tables.';\n",
              "        element.innerHTML = '';\n",
              "        dataTable['output_type'] = 'display_data';\n",
              "        await google.colab.output.renderOutput(dataTable, element);\n",
              "        const docLink = document.createElement('div');\n",
              "        docLink.innerHTML = docLinkHtml;\n",
              "        element.appendChild(docLink);\n",
              "      }\n",
              "    </script>\n",
              "  </div>\n",
              "\n",
              "\n",
              "    <div id=\"df-a72a1f21-d797-47f9-b537-17c7b5982890\">\n",
              "      <button class=\"colab-df-quickchart\" onclick=\"quickchart('df-a72a1f21-d797-47f9-b537-17c7b5982890')\"\n",
              "                title=\"Suggest charts\"\n",
              "                style=\"display:none;\">\n",
              "\n",
              "<svg xmlns=\"http://www.w3.org/2000/svg\" height=\"24px\"viewBox=\"0 0 24 24\"\n",
              "     width=\"24px\">\n",
              "    <g>\n",
              "        <path d=\"M19 3H5c-1.1 0-2 .9-2 2v14c0 1.1.9 2 2 2h14c1.1 0 2-.9 2-2V5c0-1.1-.9-2-2-2zM9 17H7v-7h2v7zm4 0h-2V7h2v10zm4 0h-2v-4h2v4z\"/>\n",
              "    </g>\n",
              "</svg>\n",
              "      </button>\n",
              "\n",
              "<style>\n",
              "  .colab-df-quickchart {\n",
              "      --bg-color: #E8F0FE;\n",
              "      --fill-color: #1967D2;\n",
              "      --hover-bg-color: #E2EBFA;\n",
              "      --hover-fill-color: #174EA6;\n",
              "      --disabled-fill-color: #AAA;\n",
              "      --disabled-bg-color: #DDD;\n",
              "  }\n",
              "\n",
              "  [theme=dark] .colab-df-quickchart {\n",
              "      --bg-color: #3B4455;\n",
              "      --fill-color: #D2E3FC;\n",
              "      --hover-bg-color: #434B5C;\n",
              "      --hover-fill-color: #FFFFFF;\n",
              "      --disabled-bg-color: #3B4455;\n",
              "      --disabled-fill-color: #666;\n",
              "  }\n",
              "\n",
              "  .colab-df-quickchart {\n",
              "    background-color: var(--bg-color);\n",
              "    border: none;\n",
              "    border-radius: 50%;\n",
              "    cursor: pointer;\n",
              "    display: none;\n",
              "    fill: var(--fill-color);\n",
              "    height: 32px;\n",
              "    padding: 0;\n",
              "    width: 32px;\n",
              "  }\n",
              "\n",
              "  .colab-df-quickchart:hover {\n",
              "    background-color: var(--hover-bg-color);\n",
              "    box-shadow: 0 1px 2px rgba(60, 64, 67, 0.3), 0 1px 3px 1px rgba(60, 64, 67, 0.15);\n",
              "    fill: var(--button-hover-fill-color);\n",
              "  }\n",
              "\n",
              "  .colab-df-quickchart-complete:disabled,\n",
              "  .colab-df-quickchart-complete:disabled:hover {\n",
              "    background-color: var(--disabled-bg-color);\n",
              "    fill: var(--disabled-fill-color);\n",
              "    box-shadow: none;\n",
              "  }\n",
              "\n",
              "  .colab-df-spinner {\n",
              "    border: 2px solid var(--fill-color);\n",
              "    border-color: transparent;\n",
              "    border-bottom-color: var(--fill-color);\n",
              "    animation:\n",
              "      spin 1s steps(1) infinite;\n",
              "  }\n",
              "\n",
              "  @keyframes spin {\n",
              "    0% {\n",
              "      border-color: transparent;\n",
              "      border-bottom-color: var(--fill-color);\n",
              "      border-left-color: var(--fill-color);\n",
              "    }\n",
              "    20% {\n",
              "      border-color: transparent;\n",
              "      border-left-color: var(--fill-color);\n",
              "      border-top-color: var(--fill-color);\n",
              "    }\n",
              "    30% {\n",
              "      border-color: transparent;\n",
              "      border-left-color: var(--fill-color);\n",
              "      border-top-color: var(--fill-color);\n",
              "      border-right-color: var(--fill-color);\n",
              "    }\n",
              "    40% {\n",
              "      border-color: transparent;\n",
              "      border-right-color: var(--fill-color);\n",
              "      border-top-color: var(--fill-color);\n",
              "    }\n",
              "    60% {\n",
              "      border-color: transparent;\n",
              "      border-right-color: var(--fill-color);\n",
              "    }\n",
              "    80% {\n",
              "      border-color: transparent;\n",
              "      border-right-color: var(--fill-color);\n",
              "      border-bottom-color: var(--fill-color);\n",
              "    }\n",
              "    90% {\n",
              "      border-color: transparent;\n",
              "      border-bottom-color: var(--fill-color);\n",
              "    }\n",
              "  }\n",
              "</style>\n",
              "\n",
              "      <script>\n",
              "        async function quickchart(key) {\n",
              "          const quickchartButtonEl =\n",
              "            document.querySelector('#' + key + ' button');\n",
              "          quickchartButtonEl.disabled = true;  // To prevent multiple clicks.\n",
              "          quickchartButtonEl.classList.add('colab-df-spinner');\n",
              "          try {\n",
              "            const charts = await google.colab.kernel.invokeFunction(\n",
              "                'suggestCharts', [key], {});\n",
              "          } catch (error) {\n",
              "            console.error('Error during call to suggestCharts:', error);\n",
              "          }\n",
              "          quickchartButtonEl.classList.remove('colab-df-spinner');\n",
              "          quickchartButtonEl.classList.add('colab-df-quickchart-complete');\n",
              "        }\n",
              "        (() => {\n",
              "          let quickchartButtonEl =\n",
              "            document.querySelector('#df-a72a1f21-d797-47f9-b537-17c7b5982890 button');\n",
              "          quickchartButtonEl.style.display =\n",
              "            google.colab.kernel.accessAllowed ? 'block' : 'none';\n",
              "        })();\n",
              "      </script>\n",
              "    </div>\n",
              "\n",
              "    </div>\n",
              "  </div>\n"
            ],
            "application/vnd.google.colaboratory.intrinsic+json": {
              "type": "dataframe",
              "summary": "{\n  \"name\": \"df\",\n  \"rows\": 8,\n  \"fields\": [\n    {\n      \"column\": \"Unnamed: 0\",\n      \"properties\": {\n        \"dtype\": \"number\",\n        \"std\": 857.8191414653959,\n        \"min\": 1.0,\n        \"max\": 2381.0,\n        \"num_unique_values\": 6,\n        \"samples\": [\n          2381.0,\n          1191.0,\n          1786.0\n        ],\n        \"semantic_type\": \"\",\n        \"description\": \"\"\n      }\n    },\n    {\n      \"column\": \"debt_to_income_ratio\",\n      \"properties\": {\n        \"dtype\": \"number\",\n        \"std\": 841.5880428420261,\n        \"min\": 0.0,\n        \"max\": 2381.0,\n        \"num_unique_values\": 8,\n        \"samples\": [\n          0.3308135672112558,\n          0.33,\n          2381.0\n        ],\n        \"semantic_type\": \"\",\n        \"description\": \"\"\n      }\n    },\n    {\n      \"column\": \"housing_to_income_ratio\",\n      \"properties\": {\n        \"dtype\": \"number\",\n        \"std\": 841.6028711719149,\n        \"min\": 0.0,\n        \"max\": 2381.0,\n        \"num_unique_values\": 8,\n        \"samples\": [\n          0.2553461217748845,\n          0.26,\n          2381.0\n        ],\n        \"semantic_type\": \"\",\n        \"description\": \"\"\n      }\n    },\n    {\n      \"column\": \"loan_to_value_ratio\",\n      \"properties\": {\n        \"dtype\": \"number\",\n        \"std\": 841.548829147793,\n        \"min\": 0.02,\n        \"max\": 2381.0,\n        \"num_unique_values\": 8,\n        \"samples\": [\n          0.7377603688878621,\n          0.779411765,\n          2381.0\n        ],\n        \"semantic_type\": \"\",\n        \"description\": \"\"\n      }\n    },\n    {\n      \"column\": \"consumer_credit_score\",\n      \"properties\": {\n        \"dtype\": \"number\",\n        \"std\": 841.065597795714,\n        \"min\": 1.0,\n        \"max\": 2381.0,\n        \"num_unique_values\": 6,\n        \"samples\": [\n          2381.0,\n          2.1163865546220073,\n          6.0\n        ],\n        \"semantic_type\": \"\",\n        \"description\": \"\"\n      }\n    },\n    {\n      \"column\": \"mortgage_credit_score\",\n      \"properties\": {\n        \"dtype\": \"number\",\n        \"std\": 841.1921525531222,\n        \"min\": 0.537168729196756,\n        \"max\": 2381.0,\n        \"num_unique_values\": 6,\n        \"samples\": [\n          2381.0,\n          1.721008403361193,\n          4.0\n        ],\n        \"semantic_type\": \"\",\n        \"description\": \"\"\n      }\n    },\n    {\n      \"column\": \"industry_unemployment_rate\",\n      \"properties\": {\n        \"dtype\": \"number\",\n        \"std\": 840.3807204487259,\n        \"min\": 1.799999952,\n        \"max\": 2381.0,\n        \"num_unique_values\": 8,\n        \"samples\": [\n          3.7744958485455684,\n          3.200000048,\n          2381.0\n        ],\n        \"semantic_type\": \"\",\n        \"description\": \"\"\n      }\n    },\n    {\n      \"column\": \"comdominiom\",\n      \"properties\": {\n        \"dtype\": \"number\",\n        \"std\": 841.6722799487421,\n        \"min\": 0.0,\n        \"max\": 2381.0,\n        \"num_unique_values\": 5,\n        \"samples\": [\n          0.2881142377152457,\n          1.0,\n          0.4529796927791679\n        ],\n        \"semantic_type\": \"\",\n        \"description\": \"\"\n      }\n    }\n  ]\n}"
            }
          },
          "metadata": {},
          "execution_count": 8
        }
      ]
    },
    {
      "cell_type": "markdown",
      "source": [
        "### Summary Statistics\n",
        "\n",
        "- Most features like `debt_to_income_ratio`, `housing_to_income_ratio`, and `loan_to_value_ratio` have values close to their average and median — they appear balanced.\n",
        "- `consumer_credit_score` and `mortgage_credit_score` are score-based with only a few possible values.\n",
        "- `is_condo` is a binary variable (0 or 1), indicating whether the property is a condominium.\n",
        "- No unusual values stand out, but we’ll confirm this with visualizations next.\n"
      ],
      "metadata": {
        "id": "BIdf-G8T2jIk"
      }
    },
    {
      "cell_type": "markdown",
      "source": [
        "### **7. Histograms for Overall Distribution**"
      ],
      "metadata": {
        "id": "qiWQrlaGmjv1"
      }
    },
    {
      "cell_type": "code",
      "source": [
        "# Plot histograms for all numerical columns\n",
        "\n",
        "df.hist(bins=30, figsize=(15, 12), color='skyblue')\n",
        "plt.suptitle('Histogram Features', fontsize=16)\n",
        "plt.show()"
      ],
      "metadata": {
        "colab": {
          "base_uri": "https://localhost:8080/",
          "height": 1000
        },
        "id": "4P4OhkPS3wl4",
        "outputId": "7dcd574f-87ab-43d7-f298-c4302310a2d0"
      },
      "execution_count": 9,
      "outputs": [
        {
          "output_type": "display_data",
          "data": {
            "text/plain": [
              "<Figure size 1500x1200 with 9 Axes>"
            ],
            "image/png": "[encoded data removed]"
          },
          "metadata": {}
        }
      ]
    },
    {
      "cell_type": "markdown",
      "source": [
        "### Numeric Feature Distributions\n",
        "\n",
        "- Most people have low debt (`debt_to_income_ratio`) and housing costs (`housing_to_income_ratio`) compared to income.\n",
        "- Loan amounts (`loan_to_value_ratio`) are usually close to the property value.\n",
        "- Credit scores (`consumer_credit_score`, `mortgage_credit_score`) are mostly good (lower values).\n",
        "- Most unemployment rates (`industry_unemployment_rate`) are between 2% and 4%.\n",
        "- Few applicants are buying condos (`is_condo` is mostly 0).\n",
        "- The first column (`Unnamed: 0`) is just an index and not needed.\n",
        "\n",
        "---"
      ],
      "metadata": {
        "id": "5fw7vDKB3wXQ"
      }
    },
    {
      "cell_type": "markdown",
      "source": [
        "## **Part C: Data Preparation**\n",
        "\n",
        "In this section, we clean and prepare the data for modeling.  \n",
        "We’ll handle missing values, drop unnecessary columns, and convert categorical values into numeric format so they can be used in logistic regression.\n"
      ],
      "metadata": {
        "id": "spTRYOaL4oQu"
      }
    },
    {
      "cell_type": "markdown",
      "source": [
        "### **1. Drop the Index Column**"
      ],
      "metadata": {
        "id": "u3hheymv1B5T"
      }
    },
    {
      "cell_type": "code",
      "source": [
        "# Drop the first index column if it exists\n",
        "if 'Unnamed: 0' in df.columns:\n",
        "    df.drop(columns=['Unnamed: 0'], inplace=True)"
      ],
      "metadata": {
        "id": "R31zwRrt1FEB"
      },
      "execution_count": 10,
      "outputs": []
    },
    {
      "cell_type": "markdown",
      "source": [
        "### Removing Extra Index Column\n",
        "\n",
        "The column `Unnamed: 0` is just a leftover index from the original CSV file.  \n",
        "It doesn’t carry useful information, so we drop it from the datase. df already has its own indexing."
      ],
      "metadata": {
        "id": "Pq6Z2EwV1ItA"
      }
    },
    {
      "cell_type": "markdown",
      "source": [
        "###**2. Fill Missing Values (mode Imputation)**"
      ],
      "metadata": {
        "id": "1u8HdL9Y50e3"
      }
    },
    {
      "cell_type": "code",
      "source": [
        "# Fill missing values in categorical columns with the most common value (mode)\n",
        "df['bad_credit_history'].fillna(df['bad_credit_history'].mode()[0], inplace=True)\n",
        "df['self_employed'].fillna(df['self_employed'].mode()[0], inplace=True)\n",
        "\n"
      ],
      "metadata": {
        "colab": {
          "base_uri": "https://localhost:8080/"
        },
        "id": "vkIPXo5351wq",
        "outputId": "1bd6add7-2694-4168-a605-654efb9cfa6b"
      },
      "execution_count": 11,
      "outputs": [
        {
          "output_type": "stream",
          "name": "stderr",
          "text": [
            "<ipython-input-11-2032617762>:2: FutureWarning: A value is trying to be set on a copy of a DataFrame or Series through chained assignment using an inplace method.\n",
            "The behavior will change in pandas 3.0. This inplace method will never work because the intermediate object on which we are setting values always behaves as a copy.\n",
            "\n",
            "For example, when doing 'df[col].method(value, inplace=True)', try using 'df.method({col: value}, inplace=True)' or df[col] = df[col].method(value) instead, to perform the operation inplace on the original object.\n",
            "\n",
            "\n",
            "  df['bad_credit_history'].fillna(df['bad_credit_history'].mode()[0], inplace=True)\n",
            "<ipython-input-11-2032617762>:3: FutureWarning: A value is trying to be set on a copy of a DataFrame or Series through chained assignment using an inplace method.\n",
            "The behavior will change in pandas 3.0. This inplace method will never work because the intermediate object on which we are setting values always behaves as a copy.\n",
            "\n",
            "For example, when doing 'df[col].method(value, inplace=True)', try using 'df.method({col: value}, inplace=True)' or df[col] = df[col].method(value) instead, to perform the operation inplace on the original object.\n",
            "\n",
            "\n",
            "  df['self_employed'].fillna(df['self_employed'].mode()[0], inplace=True)\n"
          ]
        }
      ]
    },
    {
      "cell_type": "markdown",
      "source": [
        "### Impute Missing Categorical Values\n",
        "\n",
        "Instead of dropping rows, we filled missing values in `bad_credit_history` and `self_employed` with their most common values.  \n",
        "This keeps all data in the dataset while still handling missing entries.\n"
      ],
      "metadata": {
        "id": "v_XtBsm_6YU4"
      }
    },
    {
      "cell_type": "markdown",
      "source": [
        "### **3. Drop Duplicated Rows**"
      ],
      "metadata": {
        "id": "B0sLi7g16QGo"
      }
    },
    {
      "cell_type": "code",
      "source": [
        "# Drop any duplicate rows\n",
        "df.drop_duplicates(inplace=True)\n"
      ],
      "metadata": {
        "id": "JYwk77Jw6UKQ"
      },
      "execution_count": 12,
      "outputs": []
    },
    {
      "cell_type": "markdown",
      "source": [
        "### Remove Duplicate Rows\n",
        "\n",
        "We checked earlier and found some duplicate rows in the dataset.  \n",
        "Now we remove them to make sure the model isn't biased by repeated data.\n"
      ],
      "metadata": {
        "id": "vRtX7mLW6V34"
      }
    },
    {
      "cell_type": "markdown",
      "source": [
        "### **4. Convert 'yes'/'no' to 1/0**"
      ],
      "metadata": {
        "id": "70WpVJwL6fRv"
      }
    },
    {
      "cell_type": "code",
      "source": [
        "# Convert all 'yes'/'no' values to 1/0\n",
        "df.replace({'yes': 1, 'no': 0}, inplace=True)"
      ],
      "metadata": {
        "colab": {
          "base_uri": "https://localhost:8080/"
        },
        "id": "9aCDEihw6kEo",
        "outputId": "db8abfd7-6940-4187-bdb9-a6a82f4aa252"
      },
      "execution_count": 13,
      "outputs": [
        {
          "output_type": "stream",
          "name": "stderr",
          "text": [
            "<ipython-input-13-526805731>:2: FutureWarning: Downcasting behavior in `replace` is deprecated and will be removed in a future version. To retain the old behavior, explicitly call `result.infer_objects(copy=False)`. To opt-in to the future behavior, set `pd.set_option('future.no_silent_downcasting', True)`\n",
            "  df.replace({'yes': 1, 'no': 0}, inplace=True)\n"
          ]
        }
      ]
    },
    {
      "cell_type": "markdown",
      "source": [
        "### Encode Categorical Values\n",
        "\n",
        "We replaced all \"yes\" with 1 and \"no\" with 0 so the model can understand them as numeric inputs.\n"
      ],
      "metadata": {
        "id": "2dhToxxy6l2P"
      }
    },
    {
      "cell_type": "markdown",
      "source": [
        "### **5. Convert Object Columns to Numeric**"
      ],
      "metadata": {
        "id": "WupySIHc6sD3"
      }
    },
    {
      "cell_type": "code",
      "source": [
        "# Convert object-type yes/no columns to integers (after renaming)\n",
        "cols_to_convert = [\n",
        "    'bad_credit_history', 'denied_mortgage_insurance', 'self_employed',\n",
        "    'is_single', 'is_black', 'application_denied'\n",
        "]\n",
        "df[cols_to_convert] = df[cols_to_convert].apply(pd.to_numeric)\n"
      ],
      "metadata": {
        "id": "C7-_HNkc6uR2"
      },
      "execution_count": 14,
      "outputs": []
    },
    {
      "cell_type": "markdown",
      "source": [
        "### Final Conversion\n",
        "\n",
        "After replacing yes/no values, we convert all remaining categorical columns to numeric types.  \n",
        "This step ensures the entire dataset is in the right format for modeling.\n",
        "\n",
        "### **Summary of Data Preparation**\n",
        "\n",
        "- Removed the extra index column (`Unnamed: 0`)\n",
        "- Filled missing values in `bad_credit_history` and `self_employed` using the most common value (mode)\n",
        "- Replaced all \"yes\"/\"no\" values with 1/0\n",
        "- Fixed the column name `comdominiom` to `is_condo`\n",
        "- Renamed all columns to more descriptive names\n",
        "- Converted all categorical columns to numeric types\n",
        "- Removed any duplicate rows\n",
        "\n",
        "Now the dataset is clean, consistent, and ready for training models.\n",
        "\n",
        "---\n"
      ],
      "metadata": {
        "id": "Qy3t3CDN6wdG"
      }
    },
    {
      "cell_type": "markdown",
      "source": [
        "## **Part D: Prepped Data Review**\n",
        "\n",
        "Now that the dataset has been cleaned and formatted, we’ll do a quick review to make sure:\n",
        "\n",
        "- All column names are correct\n",
        "- Data types are numeric\n",
        "- No missing values remain\n",
        "- Categorical variables are encoded\n",
        "- Distributions still make sense\n",
        "\n",
        "This helps confirm that the dataset is fully ready for modeling.\n"
      ],
      "metadata": {
        "id": "EQE50gSE9_09"
      }
    },
    {
      "cell_type": "markdown",
      "source": [
        "### **1. Quick Info Check**"
      ],
      "metadata": {
        "id": "Q0j7y-xc-O1M"
      }
    },
    {
      "cell_type": "code",
      "source": [
        "# Check info again after cleaning\n",
        "df.info()\n"
      ],
      "metadata": {
        "colab": {
          "base_uri": "https://localhost:8080/"
        },
        "id": "rbhmrMJW-Ics",
        "outputId": "98201bfd-2856-4cca-83a9-67d8c31f9924"
      },
      "execution_count": 15,
      "outputs": [
        {
          "output_type": "stream",
          "name": "stdout",
          "text": [
            "<class 'pandas.core.frame.DataFrame'>\n",
            "Index: 2378 entries, 0 to 2380\n",
            "Data columns (total 13 columns):\n",
            " #   Column                      Non-Null Count  Dtype  \n",
            "---  ------                      --------------  -----  \n",
            " 0   debt_to_income_ratio        2378 non-null   float64\n",
            " 1   housing_to_income_ratio     2378 non-null   float64\n",
            " 2   loan_to_value_ratio         2378 non-null   float64\n",
            " 3   consumer_credit_score       2378 non-null   float64\n",
            " 4   mortgage_credit_score       2378 non-null   float64\n",
            " 5   bad_credit_history          2378 non-null   int64  \n",
            " 6   denied_mortgage_insurance   2378 non-null   int64  \n",
            " 7   self_employed               2378 non-null   int64  \n",
            " 8   is_single                   2378 non-null   int64  \n",
            " 9   industry_unemployment_rate  2378 non-null   float64\n",
            " 10  comdominiom                 2378 non-null   int64  \n",
            " 11  is_black                    2378 non-null   int64  \n",
            " 12  application_denied          2378 non-null   int64  \n",
            "dtypes: float64(6), int64(7)\n",
            "memory usage: 260.1 KB\n"
          ]
        }
      ]
    },
    {
      "cell_type": "markdown",
      "source": [
        "### Data Check After Cleaning\n",
        "\n",
        "All columns are now properly named and in numeric format.  \n",
        "There are no missing values, and all object types have been converted to numbers.\n"
      ],
      "metadata": {
        "id": "rFUoSLNb-KWd"
      }
    },
    {
      "cell_type": "markdown",
      "source": [
        "### **2. Preview Cleaned Data**"
      ],
      "metadata": {
        "id": "alOJg_Eh-RR0"
      }
    },
    {
      "cell_type": "code",
      "source": [
        "# Quick statistics for numeric columns\n",
        "df.describe()"
      ],
      "metadata": {
        "colab": {
          "base_uri": "https://localhost:8080/",
          "height": 320
        },
        "id": "wug6qDge-zwC",
        "outputId": "94c90542-da74-46e9-8799-4bcb44e7adc2"
      },
      "execution_count": 16,
      "outputs": [
        {
          "output_type": "execute_result",
          "data": {
            "text/plain": [
              "       debt_to_income_ratio  housing_to_income_ratio  loan_to_value_ratio  \\\n",
              "count           2378.000000              2378.000000          2378.000000   \n",
              "mean               0.330340                 0.255005             0.737796   \n",
              "std                0.104948                 0.095113             0.178630   \n",
              "min                0.000000                 0.000000             0.020000   \n",
              "25%                0.280000                 0.214000             0.653201   \n",
              "50%                0.330000                 0.260000             0.779536   \n",
              "75%                0.370000                 0.297775             0.868421   \n",
              "max                3.000000                 3.000000             1.950000   \n",
              "\n",
              "       consumer_credit_score  mortgage_credit_score  bad_credit_history  \\\n",
              "count            2378.000000            2378.000000         2378.000000   \n",
              "mean                2.117374               1.721918            0.073171   \n",
              "std                 1.667105               0.536896            0.260471   \n",
              "min                 1.000000               1.000000            0.000000   \n",
              "25%                 1.000000               1.000000            0.000000   \n",
              "50%                 1.000000               2.000000            0.000000   \n",
              "75%                 2.000000               2.000000            0.000000   \n",
              "max                 6.000000               4.000000            1.000000   \n",
              "\n",
              "       denied_mortgage_insurance  self_employed    is_single  \\\n",
              "count                2378.000000    2378.000000  2378.000000   \n",
              "mean                    0.020185       0.116064     0.393188   \n",
              "std                     0.140662       0.320369     0.488561   \n",
              "min                     0.000000       0.000000     0.000000   \n",
              "25%                     0.000000       0.000000     0.000000   \n",
              "50%                     0.000000       0.000000     0.000000   \n",
              "75%                     0.000000       0.000000     1.000000   \n",
              "max                     1.000000       1.000000     1.000000   \n",
              "\n",
              "       industry_unemployment_rate  comdominiom     is_black  \\\n",
              "count                 2378.000000  2378.000000  2378.000000   \n",
              "mean                     3.772151     0.288057     0.142557   \n",
              "std                      2.022993     0.452953     0.349694   \n",
              "min                      1.800000     0.000000     0.000000   \n",
              "25%                      3.100000     0.000000     0.000000   \n",
              "50%                      3.200000     0.000000     0.000000   \n",
              "75%                      3.900000     1.000000     0.000000   \n",
              "max                     10.600000     1.000000     1.000000   \n",
              "\n",
              "       application_denied  \n",
              "count         2378.000000  \n",
              "mean             0.118587  \n",
              "std              0.323370  \n",
              "min              0.000000  \n",
              "25%              0.000000  \n",
              "50%              0.000000  \n",
              "75%              0.000000  \n",
              "max              1.000000  "
            ],
            "text/html": [
              "\n",
              "  <div id=\"df-7e5dca6b-7904-4c73-8fc5-ccaffc2f603d\" class=\"colab-df-container\">\n",
              "    <div>\n",
              "<style scoped>\n",
              "    .dataframe tbody tr th:only-of-type {\n",
              "        vertical-align: middle;\n",
              "    }\n",
              "\n",
              "    .dataframe tbody tr th {\n",
              "        vertical-align: top;\n",
              "    }\n",
              "\n",
              "    .dataframe thead th {\n",
              "        text-align: right;\n",
              "    }\n",
              "</style>\n",
              "<table border=\"1\" class=\"dataframe\">\n",
              "  <thead>\n",
              "    <tr style=\"text-align: right;\">\n",
              "      <th></th>\n",
              "      <th>debt_to_income_ratio</th>\n",
              "      <th>housing_to_income_ratio</th>\n",
              "      <th>loan_to_value_ratio</th>\n",
              "      <th>consumer_credit_score</th>\n",
              "      <th>mortgage_credit_score</th>\n",
              "      <th>bad_credit_history</th>\n",
              "      <th>denied_mortgage_insurance</th>\n",
              "      <th>self_employed</th>\n",
              "      <th>is_single</th>\n",
              "      <th>industry_unemployment_rate</th>\n",
              "      <th>comdominiom</th>\n",
              "      <th>is_black</th>\n",
              "      <th>application_denied</th>\n",
              "    </tr>\n",
              "  </thead>\n",
              "  <tbody>\n",
              "    <tr>\n",
              "      <th>count</th>\n",
              "      <td>2378.000000</td>\n",
              "      <td>2378.000000</td>\n",
              "      <td>2378.000000</td>\n",
              "      <td>2378.000000</td>\n",
              "      <td>2378.000000</td>\n",
              "      <td>2378.000000</td>\n",
              "      <td>2378.000000</td>\n",
              "      <td>2378.000000</td>\n",
              "      <td>2378.000000</td>\n",
              "      <td>2378.000000</td>\n",
              "      <td>2378.000000</td>\n",
              "      <td>2378.000000</td>\n",
              "      <td>2378.000000</td>\n",
              "    </tr>\n",
              "    <tr>\n",
              "      <th>mean</th>\n",
              "      <td>0.330340</td>\n",
              "      <td>0.255005</td>\n",
              "      <td>0.737796</td>\n",
              "      <td>2.117374</td>\n",
              "      <td>1.721918</td>\n",
              "      <td>0.073171</td>\n",
              "      <td>0.020185</td>\n",
              "      <td>0.116064</td>\n",
              "      <td>0.393188</td>\n",
              "      <td>3.772151</td>\n",
              "      <td>0.288057</td>\n",
              "      <td>0.142557</td>\n",
              "      <td>0.118587</td>\n",
              "    </tr>\n",
              "    <tr>\n",
              "      <th>std</th>\n",
              "      <td>0.104948</td>\n",
              "      <td>0.095113</td>\n",
              "      <td>0.178630</td>\n",
              "      <td>1.667105</td>\n",
              "      <td>0.536896</td>\n",
              "      <td>0.260471</td>\n",
              "      <td>0.140662</td>\n",
              "      <td>0.320369</td>\n",
              "      <td>0.488561</td>\n",
              "      <td>2.022993</td>\n",
              "      <td>0.452953</td>\n",
              "      <td>0.349694</td>\n",
              "      <td>0.323370</td>\n",
              "    </tr>\n",
              "    <tr>\n",
              "      <th>min</th>\n",
              "      <td>0.000000</td>\n",
              "      <td>0.000000</td>\n",
              "      <td>0.020000</td>\n",
              "      <td>1.000000</td>\n",
              "      <td>1.000000</td>\n",
              "      <td>0.000000</td>\n",
              "      <td>0.000000</td>\n",
              "      <td>0.000000</td>\n",
              "      <td>0.000000</td>\n",
              "      <td>1.800000</td>\n",
              "      <td>0.000000</td>\n",
              "      <td>0.000000</td>\n",
              "      <td>0.000000</td>\n",
              "    </tr>\n",
              "    <tr>\n",
              "      <th>25%</th>\n",
              "      <td>0.280000</td>\n",
              "      <td>0.214000</td>\n",
              "      <td>0.653201</td>\n",
              "      <td>1.000000</td>\n",
              "      <td>1.000000</td>\n",
              "      <td>0.000000</td>\n",
              "      <td>0.000000</td>\n",
              "      <td>0.000000</td>\n",
              "      <td>0.000000</td>\n",
              "      <td>3.100000</td>\n",
              "      <td>0.000000</td>\n",
              "      <td>0.000000</td>\n",
              "      <td>0.000000</td>\n",
              "    </tr>\n",
              "    <tr>\n",
              "      <th>50%</th>\n",
              "      <td>0.330000</td>\n",
              "      <td>0.260000</td>\n",
              "      <td>0.779536</td>\n",
              "      <td>1.000000</td>\n",
              "      <td>2.000000</td>\n",
              "      <td>0.000000</td>\n",
              "      <td>0.000000</td>\n",
              "      <td>0.000000</td>\n",
              "      <td>0.000000</td>\n",
              "      <td>3.200000</td>\n",
              "      <td>0.000000</td>\n",
              "      <td>0.000000</td>\n",
              "      <td>0.000000</td>\n",
              "    </tr>\n",
              "    <tr>\n",
              "      <th>75%</th>\n",
              "      <td>0.370000</td>\n",
              "      <td>0.297775</td>\n",
              "      <td>0.868421</td>\n",
              "      <td>2.000000</td>\n",
              "      <td>2.000000</td>\n",
              "      <td>0.000000</td>\n",
              "      <td>0.000000</td>\n",
              "      <td>0.000000</td>\n",
              "      <td>1.000000</td>\n",
              "      <td>3.900000</td>\n",
              "      <td>1.000000</td>\n",
              "      <td>0.000000</td>\n",
              "      <td>0.000000</td>\n",
              "    </tr>\n",
              "    <tr>\n",
              "      <th>max</th>\n",
              "      <td>3.000000</td>\n",
              "      <td>3.000000</td>\n",
              "      <td>1.950000</td>\n",
              "      <td>6.000000</td>\n",
              "      <td>4.000000</td>\n",
              "      <td>1.000000</td>\n",
              "      <td>1.000000</td>\n",
              "      <td>1.000000</td>\n",
              "      <td>1.000000</td>\n",
              "      <td>10.600000</td>\n",
              "      <td>1.000000</td>\n",
              "      <td>1.000000</td>\n",
              "      <td>1.000000</td>\n",
              "    </tr>\n",
              "  </tbody>\n",
              "</table>\n",
              "</div>\n",
              "    <div class=\"colab-df-buttons\">\n",
              "\n",
              "  <div class=\"colab-df-container\">\n",
              "    <button class=\"colab-df-convert\" onclick=\"convertToInteractive('df-7e5dca6b-7904-4c73-8fc5-ccaffc2f603d')\"\n",
              "            title=\"Convert this dataframe to an interactive table.\"\n",
              "            style=\"display:none;\">\n",
              "\n",
              "  <svg xmlns=\"http://www.w3.org/2000/svg\" height=\"24px\" viewBox=\"0 -960 960 960\">\n",
              "    <path d=\"M120-120v-720h720v720H120Zm60-500h600v-160H180v160Zm220 220h160v-160H400v160Zm0 220h160v-160H400v160ZM180-400h160v-160H180v160Zm440 0h160v-160H620v160ZM180-180h160v-160H180v160Zm440 0h160v-160H620v160Z\"/>\n",
              "  </svg>\n",
              "    </button>\n",
              "\n",
              "  <style>\n",
              "    .colab-df-container {\n",
              "      display:flex;\n",
              "      gap: 12px;\n",
              "    }\n",
              "\n",
              "    .colab-df-convert {\n",
              "      background-color: #E8F0FE;\n",
              "      border: none;\n",
              "      border-radius: 50%;\n",
              "      cursor: pointer;\n",
              "      display: none;\n",
              "      fill: #1967D2;\n",
              "      height: 32px;\n",
              "      padding: 0 0 0 0;\n",
              "      width: 32px;\n",
              "    }\n",
              "\n",
              "    .colab-df-convert:hover {\n",
              "      background-color: #E2EBFA;\n",
              "      box-shadow: 0px 1px 2px rgba(60, 64, 67, 0.3), 0px 1px 3px 1px rgba(60, 64, 67, 0.15);\n",
              "      fill: #174EA6;\n",
              "    }\n",
              "\n",
              "    .colab-df-buttons div {\n",
              "      margin-bottom: 4px;\n",
              "    }\n",
              "\n",
              "    [theme=dark] .colab-df-convert {\n",
              "      background-color: #3B4455;\n",
              "      fill: #D2E3FC;\n",
              "    }\n",
              "\n",
              "    [theme=dark] .colab-df-convert:hover {\n",
              "      background-color: #434B5C;\n",
              "      box-shadow: 0px 1px 3px 1px rgba(0, 0, 0, 0.15);\n",
              "      filter: drop-shadow(0px 1px 2px rgba(0, 0, 0, 0.3));\n",
              "      fill: #FFFFFF;\n",
              "    }\n",
              "  </style>\n",
              "\n",
              "    <script>\n",
              "      const buttonEl =\n",
              "        document.querySelector('#df-7e5dca6b-7904-4c73-8fc5-ccaffc2f603d button.colab-df-convert');\n",
              "      buttonEl.style.display =\n",
              "        google.colab.kernel.accessAllowed ? 'block' : 'none';\n",
              "\n",
              "      async function convertToInteractive(key) {\n",
              "        const element = document.querySelector('#df-7e5dca6b-7904-4c73-8fc5-ccaffc2f603d');\n",
              "        const dataTable =\n",
              "          await google.colab.kernel.invokeFunction('convertToInteractive',\n",
              "                                                    [key], {});\n",
              "        if (!dataTable) return;\n",
              "\n",
              "        const docLinkHtml = 'Like what you see? Visit the ' +\n",
              "          '<a target=\"_blank\" href=https://colab.research.google.com/notebooks/data_table.ipynb>data table notebook</a>'\n",
              "          + ' to learn more about interactive tables.';\n",
              "        element.innerHTML = '';\n",
              "        dataTable['output_type'] = 'display_data';\n",
              "        await google.colab.output.renderOutput(dataTable, element);\n",
              "        const docLink = document.createElement('div');\n",
              "        docLink.innerHTML = docLinkHtml;\n",
              "        element.appendChild(docLink);\n",
              "      }\n",
              "    </script>\n",
              "  </div>\n",
              "\n",
              "\n",
              "    <div id=\"df-15731e07-59fc-497f-a9fa-0ec301f17cdb\">\n",
              "      <button class=\"colab-df-quickchart\" onclick=\"quickchart('df-15731e07-59fc-497f-a9fa-0ec301f17cdb')\"\n",
              "                title=\"Suggest charts\"\n",
              "                style=\"display:none;\">\n",
              "\n",
              "<svg xmlns=\"http://www.w3.org/2000/svg\" height=\"24px\"viewBox=\"0 0 24 24\"\n",
              "     width=\"24px\">\n",
              "    <g>\n",
              "        <path d=\"M19 3H5c-1.1 0-2 .9-2 2v14c0 1.1.9 2 2 2h14c1.1 0 2-.9 2-2V5c0-1.1-.9-2-2-2zM9 17H7v-7h2v7zm4 0h-2V7h2v10zm4 0h-2v-4h2v4z\"/>\n",
              "    </g>\n",
              "</svg>\n",
              "      </button>\n",
              "\n",
              "<style>\n",
              "  .colab-df-quickchart {\n",
              "      --bg-color: #E8F0FE;\n",
              "      --fill-color: #1967D2;\n",
              "      --hover-bg-color: #E2EBFA;\n",
              "      --hover-fill-color: #174EA6;\n",
              "      --disabled-fill-color: #AAA;\n",
              "      --disabled-bg-color: #DDD;\n",
              "  }\n",
              "\n",
              "  [theme=dark] .colab-df-quickchart {\n",
              "      --bg-color: #3B4455;\n",
              "      --fill-color: #D2E3FC;\n",
              "      --hover-bg-color: #434B5C;\n",
              "      --hover-fill-color: #FFFFFF;\n",
              "      --disabled-bg-color: #3B4455;\n",
              "      --disabled-fill-color: #666;\n",
              "  }\n",
              "\n",
              "  .colab-df-quickchart {\n",
              "    background-color: var(--bg-color);\n",
              "    border: none;\n",
              "    border-radius: 50%;\n",
              "    cursor: pointer;\n",
              "    display: none;\n",
              "    fill: var(--fill-color);\n",
              "    height: 32px;\n",
              "    padding: 0;\n",
              "    width: 32px;\n",
              "  }\n",
              "\n",
              "  .colab-df-quickchart:hover {\n",
              "    background-color: var(--hover-bg-color);\n",
              "    box-shadow: 0 1px 2px rgba(60, 64, 67, 0.3), 0 1px 3px 1px rgba(60, 64, 67, 0.15);\n",
              "    fill: var(--button-hover-fill-color);\n",
              "  }\n",
              "\n",
              "  .colab-df-quickchart-complete:disabled,\n",
              "  .colab-df-quickchart-complete:disabled:hover {\n",
              "    background-color: var(--disabled-bg-color);\n",
              "    fill: var(--disabled-fill-color);\n",
              "    box-shadow: none;\n",
              "  }\n",
              "\n",
              "  .colab-df-spinner {\n",
              "    border: 2px solid var(--fill-color);\n",
              "    border-color: transparent;\n",
              "    border-bottom-color: var(--fill-color);\n",
              "    animation:\n",
              "      spin 1s steps(1) infinite;\n",
              "  }\n",
              "\n",
              "  @keyframes spin {\n",
              "    0% {\n",
              "      border-color: transparent;\n",
              "      border-bottom-color: var(--fill-color);\n",
              "      border-left-color: var(--fill-color);\n",
              "    }\n",
              "    20% {\n",
              "      border-color: transparent;\n",
              "      border-left-color: var(--fill-color);\n",
              "      border-top-color: var(--fill-color);\n",
              "    }\n",
              "    30% {\n",
              "      border-color: transparent;\n",
              "      border-left-color: var(--fill-color);\n",
              "      border-top-color: var(--fill-color);\n",
              "      border-right-color: var(--fill-color);\n",
              "    }\n",
              "    40% {\n",
              "      border-color: transparent;\n",
              "      border-right-color: var(--fill-color);\n",
              "      border-top-color: var(--fill-color);\n",
              "    }\n",
              "    60% {\n",
              "      border-color: transparent;\n",
              "      border-right-color: var(--fill-color);\n",
              "    }\n",
              "    80% {\n",
              "      border-color: transparent;\n",
              "      border-right-color: var(--fill-color);\n",
              "      border-bottom-color: var(--fill-color);\n",
              "    }\n",
              "    90% {\n",
              "      border-color: transparent;\n",
              "      border-bottom-color: var(--fill-color);\n",
              "    }\n",
              "  }\n",
              "</style>\n",
              "\n",
              "      <script>\n",
              "        async function quickchart(key) {\n",
              "          const quickchartButtonEl =\n",
              "            document.querySelector('#' + key + ' button');\n",
              "          quickchartButtonEl.disabled = true;  // To prevent multiple clicks.\n",
              "          quickchartButtonEl.classList.add('colab-df-spinner');\n",
              "          try {\n",
              "            const charts = await google.colab.kernel.invokeFunction(\n",
              "                'suggestCharts', [key], {});\n",
              "          } catch (error) {\n",
              "            console.error('Error during call to suggestCharts:', error);\n",
              "          }\n",
              "          quickchartButtonEl.classList.remove('colab-df-spinner');\n",
              "          quickchartButtonEl.classList.add('colab-df-quickchart-complete');\n",
              "        }\n",
              "        (() => {\n",
              "          let quickchartButtonEl =\n",
              "            document.querySelector('#df-15731e07-59fc-497f-a9fa-0ec301f17cdb button');\n",
              "          quickchartButtonEl.style.display =\n",
              "            google.colab.kernel.accessAllowed ? 'block' : 'none';\n",
              "        })();\n",
              "      </script>\n",
              "    </div>\n",
              "\n",
              "    </div>\n",
              "  </div>\n"
            ],
            "application/vnd.google.colaboratory.intrinsic+json": {
              "type": "dataframe",
              "summary": "{\n  \"name\": \"df\",\n  \"rows\": 8,\n  \"fields\": [\n    {\n      \"column\": \"debt_to_income_ratio\",\n      \"properties\": {\n        \"dtype\": \"number\",\n        \"std\": 840.5275230472919,\n        \"min\": 0.0,\n        \"max\": 2378.0,\n        \"num_unique_values\": 8,\n        \"samples\": [\n          0.3303395304953743,\n          0.33,\n          2378.0\n        ],\n        \"semantic_type\": \"\",\n        \"description\": \"\"\n      }\n    },\n    {\n      \"column\": \"housing_to_income_ratio\",\n      \"properties\": {\n        \"dtype\": \"number\",\n        \"std\": 840.5423578171758,\n        \"min\": 0.0,\n        \"max\": 2378.0,\n        \"num_unique_values\": 8,\n        \"samples\": [\n          0.2550045903906644,\n          0.26,\n          2378.0\n        ],\n        \"semantic_type\": \"\",\n        \"description\": \"\"\n      }\n    },\n    {\n      \"column\": \"loan_to_value_ratio\",\n      \"properties\": {\n        \"dtype\": \"number\",\n        \"std\": 840.4881476804911,\n        \"min\": 0.02,\n        \"max\": 2378.0,\n        \"num_unique_values\": 8,\n        \"samples\": [\n          0.737795998321699,\n          0.7795363909999999,\n          2378.0\n        ],\n        \"semantic_type\": \"\",\n        \"description\": \"\"\n      }\n    },\n    {\n      \"column\": \"consumer_credit_score\",\n      \"properties\": {\n        \"dtype\": \"number\",\n        \"std\": 840.004852605543,\n        \"min\": 1.0,\n        \"max\": 2378.0,\n        \"num_unique_values\": 6,\n        \"samples\": [\n          2378.0,\n          2.117374426642136,\n          6.0\n        ],\n        \"semantic_type\": \"\",\n        \"description\": \"\"\n      }\n    },\n    {\n      \"column\": \"mortgage_credit_score\",\n      \"properties\": {\n        \"dtype\": \"number\",\n        \"std\": 840.1314610925557,\n        \"min\": 0.5368961628569314,\n        \"max\": 2378.0,\n        \"num_unique_values\": 6,\n        \"samples\": [\n          2378.0,\n          1.721918001851556,\n          4.0\n        ],\n        \"semantic_type\": \"\",\n        \"description\": \"\"\n      }\n    },\n    {\n      \"column\": \"bad_credit_history\",\n      \"properties\": {\n        \"dtype\": \"number\",\n        \"std\": 840.6826733313767,\n        \"min\": 0.0,\n        \"max\": 2378.0,\n        \"num_unique_values\": 5,\n        \"samples\": [\n          0.07317073170731707,\n          1.0,\n          0.26047131537851226\n        ],\n        \"semantic_type\": \"\",\n        \"description\": \"\"\n      }\n    },\n    {\n      \"column\": \"denied_mortgage_insurance\",\n      \"properties\": {\n        \"dtype\": \"number\",\n        \"std\": 840.6914015043118,\n        \"min\": 0.0,\n        \"max\": 2378.0,\n        \"num_unique_values\": 5,\n        \"samples\": [\n          0.020185029436501262,\n          1.0,\n          0.14066241297697\n        ],\n        \"semantic_type\": \"\",\n        \"description\": \"\"\n      }\n    },\n    {\n      \"column\": \"self_employed\",\n      \"properties\": {\n        \"dtype\": \"number\",\n        \"std\": 840.6774818022074,\n        \"min\": 0.0,\n        \"max\": 2378.0,\n        \"num_unique_values\": 5,\n        \"samples\": [\n          0.11606391925988226,\n          1.0,\n          0.3203689227263425\n        ],\n        \"semantic_type\": \"\",\n        \"description\": \"\"\n      }\n    },\n    {\n      \"column\": \"is_single\",\n      \"properties\": {\n        \"dtype\": \"number\",\n        \"std\": 840.604515125223,\n        \"min\": 0.0,\n        \"max\": 2378.0,\n        \"num_unique_values\": 5,\n        \"samples\": [\n          0.39318755256518084,\n          1.0,\n          0.4885606164620147\n        ],\n        \"semantic_type\": \"\",\n        \"description\": \"\"\n      }\n    },\n    {\n      \"column\": \"industry_unemployment_rate\",\n      \"properties\": {\n        \"dtype\": \"number\",\n        \"std\": 839.3203698481337,\n        \"min\": 1.799999952,\n        \"max\": 2378.0,\n        \"num_unique_values\": 8,\n        \"samples\": [\n          3.7721508053212784,\n          3.200000048,\n          2378.0\n        ],\n        \"semantic_type\": \"\",\n        \"description\": \"\"\n      }\n    },\n    {\n      \"column\": \"comdominiom\",\n      \"properties\": {\n        \"dtype\": \"number\",\n        \"std\": 840.611624131551,\n        \"min\": 0.0,\n        \"max\": 2378.0,\n        \"num_unique_values\": 5,\n        \"samples\": [\n          0.28805719091673676,\n          1.0,\n          0.45295311302691527\n        ],\n        \"semantic_type\": \"\",\n        \"description\": \"\"\n      }\n    },\n    {\n      \"column\": \"is_black\",\n      \"properties\": {\n        \"dtype\": \"number\",\n        \"std\": 840.6746628483344,\n        \"min\": 0.0,\n        \"max\": 2378.0,\n        \"num_unique_values\": 5,\n        \"samples\": [\n          0.14255677039529016,\n          1.0,\n          0.3496938109189774\n        ],\n        \"semantic_type\": \"\",\n        \"description\": \"\"\n      }\n    },\n    {\n      \"column\": \"application_denied\",\n      \"properties\": {\n        \"dtype\": \"number\",\n        \"std\": 840.677202810997,\n        \"min\": 0.0,\n        \"max\": 2378.0,\n        \"num_unique_values\": 5,\n        \"samples\": [\n          0.11858704793944491,\n          1.0,\n          0.3233699632666412\n        ],\n        \"semantic_type\": \"\",\n        \"description\": \"\"\n      }\n    }\n  ]\n}"
            }
          },
          "metadata": {},
          "execution_count": 16
        }
      ]
    },
    {
      "cell_type": "markdown",
      "source": [
        "### **3. No Missing Values and No Duplicates**\n",
        "\n"
      ],
      "metadata": {
        "id": "ojzUZzMN-aRM"
      }
    },
    {
      "cell_type": "code",
      "source": [
        "# Final check for missing values\n",
        "df.isnull().sum()\n"
      ],
      "metadata": {
        "colab": {
          "base_uri": "https://localhost:8080/",
          "height": 491
        },
        "id": "stRaV0iu-b6D",
        "outputId": "d071aba7-eb40-4a91-970d-fa17331b0283"
      },
      "execution_count": 17,
      "outputs": [
        {
          "output_type": "execute_result",
          "data": {
            "text/plain": [
              "debt_to_income_ratio          0\n",
              "housing_to_income_ratio       0\n",
              "loan_to_value_ratio           0\n",
              "consumer_credit_score         0\n",
              "mortgage_credit_score         0\n",
              "bad_credit_history            0\n",
              "denied_mortgage_insurance     0\n",
              "self_employed                 0\n",
              "is_single                     0\n",
              "industry_unemployment_rate    0\n",
              "comdominiom                   0\n",
              "is_black                      0\n",
              "application_denied            0\n",
              "dtype: int64"
            ],
            "text/html": [
              "<div>\n",
              "<style scoped>\n",
              "    .dataframe tbody tr th:only-of-type {\n",
              "        vertical-align: middle;\n",
              "    }\n",
              "\n",
              "    .dataframe tbody tr th {\n",
              "        vertical-align: top;\n",
              "    }\n",
              "\n",
              "    .dataframe thead th {\n",
              "        text-align: right;\n",
              "    }\n",
              "</style>\n",
              "<table border=\"1\" class=\"dataframe\">\n",
              "  <thead>\n",
              "    <tr style=\"text-align: right;\">\n",
              "      <th></th>\n",
              "      <th>0</th>\n",
              "    </tr>\n",
              "  </thead>\n",
              "  <tbody>\n",
              "    <tr>\n",
              "      <th>debt_to_income_ratio</th>\n",
              "      <td>0</td>\n",
              "    </tr>\n",
              "    <tr>\n",
              "      <th>housing_to_income_ratio</th>\n",
              "      <td>0</td>\n",
              "    </tr>\n",
              "    <tr>\n",
              "      <th>loan_to_value_ratio</th>\n",
              "      <td>0</td>\n",
              "    </tr>\n",
              "    <tr>\n",
              "      <th>consumer_credit_score</th>\n",
              "      <td>0</td>\n",
              "    </tr>\n",
              "    <tr>\n",
              "      <th>mortgage_credit_score</th>\n",
              "      <td>0</td>\n",
              "    </tr>\n",
              "    <tr>\n",
              "      <th>bad_credit_history</th>\n",
              "      <td>0</td>\n",
              "    </tr>\n",
              "    <tr>\n",
              "      <th>denied_mortgage_insurance</th>\n",
              "      <td>0</td>\n",
              "    </tr>\n",
              "    <tr>\n",
              "      <th>self_employed</th>\n",
              "      <td>0</td>\n",
              "    </tr>\n",
              "    <tr>\n",
              "      <th>is_single</th>\n",
              "      <td>0</td>\n",
              "    </tr>\n",
              "    <tr>\n",
              "      <th>industry_unemployment_rate</th>\n",
              "      <td>0</td>\n",
              "    </tr>\n",
              "    <tr>\n",
              "      <th>comdominiom</th>\n",
              "      <td>0</td>\n",
              "    </tr>\n",
              "    <tr>\n",
              "      <th>is_black</th>\n",
              "      <td>0</td>\n",
              "    </tr>\n",
              "    <tr>\n",
              "      <th>application_denied</th>\n",
              "      <td>0</td>\n",
              "    </tr>\n",
              "  </tbody>\n",
              "</table>\n",
              "</div><br><label><b>dtype:</b> int64</label>"
            ]
          },
          "metadata": {},
          "execution_count": 17
        }
      ]
    },
    {
      "cell_type": "code",
      "source": [
        "df.duplicated().sum()"
      ],
      "metadata": {
        "colab": {
          "base_uri": "https://localhost:8080/"
        },
        "id": "nhOVnDtS-mW7",
        "outputId": "2a8311f3-6b6a-459d-c89c-511f01ef4822"
      },
      "execution_count": 18,
      "outputs": [
        {
          "output_type": "execute_result",
          "data": {
            "text/plain": [
              "np.int64(0)"
            ]
          },
          "metadata": {},
          "execution_count": 18
        }
      ]
    },
    {
      "cell_type": "markdown",
      "source": [
        "### **4. Histograms**"
      ],
      "metadata": {
        "id": "bPSuY9lI-szL"
      }
    },
    {
      "cell_type": "code",
      "source": [
        "# Plot histograms for all numerical columns\n",
        "\n",
        "df.hist(bins=30, figsize=(15, 12), color='skyblue')\n",
        "plt.suptitle('Histogram Features', fontsize=16)\n",
        "plt.show()"
      ],
      "metadata": {
        "colab": {
          "base_uri": "https://localhost:8080/",
          "height": 1000
        },
        "id": "Vbtgtl1g-_oJ",
        "outputId": "ea2a04e4-9d9b-4076-a465-6c8860d0b169"
      },
      "execution_count": 19,
      "outputs": [
        {
          "output_type": "display_data",
          "data": {
            "text/plain": [
              "<Figure size 1500x1200 with 16 Axes>"
            ],
            "image/png": "[encoded data removed]"
          },
          "metadata": {}
        }
      ]
    },
    {
      "cell_type": "markdown",
      "source": [
        "- All features are now numeric and clearly plotted.\n",
        "- `yes`/`no` values are now correctly shown as 0/1 bars.\n",
        "- No missing values or strange categories remain.\n",
        "- Distributions still make sense and match what we saw before cleaning.\n",
        "\n",
        "Everything looks correct — the data is ready for modeling.\n",
        "\n",
        "---"
      ],
      "metadata": {
        "id": "g9wHDuyJ_hSh"
      }
    },
    {
      "cell_type": "markdown",
      "source": [
        "##**Part E: Regression Modeling**\n",
        "\n",
        "We build and compare three logistic regression models:\n",
        "\n",
        "- **Model 1**: All features\n",
        "- **Model 2**: Manually selected features based on domain knowledge\n",
        "- **Model 3**: Top features selected using Decision Tree feature importance\n",
        "\n",
        "We evaluate all models using **5-fold cross-validation** and F1-score.\n",
        "\n",
        "\n"
      ],
      "metadata": {
        "id": "zMTfvMBf_52X"
      }
    },
    {
      "cell_type": "markdown",
      "source": [
        "### **1. Data Splitting (Shared Across All Models)**\n",
        "\n",
        "We split the data into training (70%) and testing (30%) sets.  \n",
        "The target is `application_denied`, and all other columns are used as input features.\n"
      ],
      "metadata": {
        "id": "x8C8dmTMAXQ9"
      }
    },
    {
      "cell_type": "code",
      "source": [
        "# Step 1 – Define y (target)\n",
        "y = df['application_denied']\n",
        "\n",
        "# Step 2 – Define all feature sets\n",
        "X1 = df.drop(columns=['application_denied'])  # Model 1: All features\n",
        "\n",
        "# Model 2 – Manual feature selection\n",
        "X2 = df[[\n",
        "    'debt_to_income_ratio',\n",
        "    'loan_to_value_ratio',\n",
        "    'consumer_credit_score',\n",
        "    'bad_credit_history',\n",
        "    'denied_mortgage_insurance',\n",
        "    'industry_unemployment_rate'\n",
        "]]\n",
        "\n",
        "# Model 3 – Top 6 features using decision tree\n",
        "tree = DecisionTreeClassifier(random_state=42)\n",
        "tree.fit(X1, y)\n",
        "top_tree_features = pd.Series(tree.feature_importances_, index=X1.columns).sort_values(ascending=False).head(6).index.tolist()\n",
        "X3 = X1[top_tree_features]\n",
        "\n",
        "# Step 3 – Perform consistent train-test split for each model\n",
        "X1_train, X1_test, y_train, y_test = train_test_split(X1, y, test_size=0.3, random_state=42)\n",
        "X2_train, X2_test = train_test_split(X2, test_size=0.3, random_state=42)\n",
        "X3_train, X3_test = train_test_split(X3, test_size=0.3, random_state=42)\n",
        "X4 = X1  # All features\n",
        "X4_train, X4_test, y_train, y_test = train_test_split(X4, y, test_size=0.3, random_state=42)\n",
        "\n"
      ],
      "metadata": {
        "id": "xFDMqVCWO9kh"
      },
      "execution_count": 26,
      "outputs": []
    },
    {
      "cell_type": "markdown",
      "source": [
        "### Model 1 – All Features\n",
        "\n",
        "This model uses the full dataset with all available features.  \n",
        "It acts as a baseline to compare against more selective models.\n"
      ],
      "metadata": {
        "id": "dZsSfV0PU3UW"
      }
    },
    {
      "cell_type": "code",
      "source": [
        "model1 = LogisticRegression(max_iter=1000)\n",
        "scores1 = cross_val_score(model1, X1, y, cv=5, scoring='f1')\n",
        "\n",
        "model1.fit(X1_train, y_train)\n",
        "y_pred1 = model1.predict(X1_test)\n",
        "print(\"Model 1 – All Features: Avg F1 Score =\", round(scores1.mean(), 3))\n",
        "print(\"Avg F1 Score (5-fold CV):\", round(scores1.mean(), 3))\n",
        "print(\"Accuracy:\", round(accuracy_score(y_test, y_pred1), 3))\n",
        "print(\"F1 Scores across folds:\", np.round(scores1, 3))\n"
      ],
      "metadata": {
        "colab": {
          "base_uri": "https://localhost:8080/"
        },
        "id": "xW6zTVrDU4OY",
        "outputId": "b02fc0e4-eb54-4197-9e56-e35bc8681586"
      },
      "execution_count": 21,
      "outputs": [
        {
          "output_type": "stream",
          "name": "stdout",
          "text": [
            "Model 1 – All Features: Avg F1 Score = 0.393\n",
            "Avg F1 Score (5-fold CV): 0.393\n",
            "Accuracy: 0.895\n",
            "F1 Scores across folds: [0.375 0.63  0.278 0.447 0.235]\n"
          ]
        }
      ]
    },
    {
      "cell_type": "markdown",
      "source": [
        "### Model 1 Evaluation\n",
        "\n",
        "Model 1 performs well using all features. However, it may be less interpretable and could include unnecessary variables.\n",
        "\n",
        "---"
      ],
      "metadata": {
        "id": "uoKWsKesU6h-"
      }
    },
    {
      "cell_type": "markdown",
      "source": [
        "### **Model 2 – Manual Feature Selection**\n",
        "\n",
        "This model uses six manually selected features based on domain knowledge and earlier analysis.  \n",
        "It aims to keep the model simpler while maintaining good predictive power.\n",
        "\n"
      ],
      "metadata": {
        "id": "ZjBItyEEU_A-"
      }
    },
    {
      "cell_type": "code",
      "source": [
        "# Model 2: Logistic Regression with manually selected features\n",
        "model2 = LogisticRegression(max_iter=1000)\n",
        "\n",
        "# Cross-validation scores (F1)\n",
        "scores2 = cross_val_score(model2, X2, y, cv=5, scoring='f1')\n",
        "\n",
        "# Train on training set and predict on test set\n",
        "model2.fit(X2_train, y_train)\n",
        "y_pred2 = model2.predict(X2_test)\n",
        "\n",
        "# Print results\n",
        "print(\"Model 2 – Manual Features\")\n",
        "print(\"Avg F1 Score (5-fold CV):\", round(scores2.mean(), 3))\n",
        "print(\"Test Accuracy:\", round(accuracy_score(y_test, y_pred2), 3))\n",
        "print(\"F1 Scores across folds:\", np.round(scores2, 3))\n"
      ],
      "metadata": {
        "colab": {
          "base_uri": "https://localhost:8080/"
        },
        "id": "E72baRflVBl1",
        "outputId": "3bfcefdc-08d3-408b-9966-5aa681aef103"
      },
      "execution_count": 22,
      "outputs": [
        {
          "output_type": "stream",
          "name": "stdout",
          "text": [
            "Model 2 – Manual Features\n",
            "Avg F1 Score (5-fold CV): 0.388\n",
            "Test Accuracy: 0.891\n",
            "F1 Scores across folds: [0.333 0.615 0.333 0.421 0.235]\n"
          ]
        }
      ]
    },
    {
      "cell_type": "markdown",
      "source": [
        "### Model 2 Evaluation\n",
        "\n",
        "Model 2 is easier to explain and slightly faster to train.  \n",
        "It performs nearly as well as Model 1 with fewer features.\n",
        "\n",
        "---\n"
      ],
      "metadata": {
        "id": "TaFAplabVH91"
      }
    },
    {
      "cell_type": "markdown",
      "source": [
        "### Model 3 – Decision Tree Feature Selection\n",
        "\n",
        "This model uses the top 6 features chosen by a decision tree based on feature importance.  \n",
        "It’s a data-driven method to reduce dimensionality.\n"
      ],
      "metadata": {
        "id": "jYA5AvLRVN6F"
      }
    },
    {
      "cell_type": "code",
      "source": [
        "# Model 3: Logistic Regression with tree-selected features\n",
        "model3 = LogisticRegression(max_iter=1000)\n",
        "\n",
        "# Cross-validation scores (F1)\n",
        "scores3 = cross_val_score(model3, X3, y, cv=5, scoring='f1')\n",
        "\n",
        "# Fit model on training set\n",
        "model3.fit(X3_train, y_train)\n",
        "\n",
        "# Predict on test set\n",
        "y_pred3 = model3.predict(X3_test)\n",
        "\n",
        "# Print results\n",
        "print(\"Model 3 – Tree-Based Features\")\n",
        "print(\"Avg F1 Score (5-fold CV):\", round(scores3.mean(), 3))\n",
        "print(\"Test Accuracy:\", round(accuracy_score(y_test, y_pred3), 3))\n",
        "print(\"F1 Scores across folds:\", np.round(scores3, 3))"
      ],
      "metadata": {
        "colab": {
          "base_uri": "https://localhost:8080/"
        },
        "id": "g5rmwtyOVVlt",
        "outputId": "33e72895-32d9-4915-fe40-2444496630f3"
      },
      "execution_count": 23,
      "outputs": [
        {
          "output_type": "stream",
          "name": "stdout",
          "text": [
            "Model 3 – Tree-Based Features\n",
            "Avg F1 Score (5-fold CV): 0.274\n",
            "Test Accuracy: 0.887\n",
            "F1 Scores across folds: [0.299 0.537 0.127 0.277 0.131]\n"
          ]
        }
      ]
    },
    {
      "cell_type": "markdown",
      "source": [
        "### Model 3 Evaluation\n",
        "\n",
        "Model 3 uses features selected automatically by a decision tree.  \n",
        "It performs comparably to the other models and may help uncover overlooked patterns in the data.\n",
        "\n",
        "---"
      ],
      "metadata": {
        "id": "_ymfvO3CVavs"
      }
    },
    {
      "cell_type": "code",
      "source": [
        "# Model 4 – All Features (Logistic Regression)\n",
        "\n",
        "model4 = LogisticRegression(max_iter=1000)\n",
        "\n",
        "# Cross-validation scores (F1)\n",
        "scores4 = cross_val_score(model4, X4, y, cv=5, scoring='f1')\n",
        "\n",
        "# Fit model on training set\n",
        "model4.fit(X4_train, y_train)\n",
        "\n",
        "# Predict on test set\n",
        "y_pred4 = model4.predict(X4_test)\n",
        "\n",
        "# Print results\n",
        "print(\"Model 4 – All Features\")\n",
        "print(\"Avg F1 Score (5-fold CV):\", round(scores4.mean(), 3))\n",
        "print(\"Test Accuracy:\", round(accuracy_score(y_test, y_pred4), 3))\n",
        "print(\"F1 Scores across folds:\", np.round(scores4, 3))\n"
      ],
      "metadata": {
        "colab": {
          "base_uri": "https://localhost:8080/"
        },
        "id": "4vnFrw7HXqcf",
        "outputId": "2b4239cb-22df-4301-c0cb-066876df0c01"
      },
      "execution_count": 27,
      "outputs": [
        {
          "output_type": "stream",
          "name": "stdout",
          "text": [
            "Model 4 – All Features\n",
            "Avg F1 Score (5-fold CV): 0.393\n",
            "Test Accuracy: 0.895\n",
            "F1 Scores across folds: [0.375 0.63  0.278 0.447 0.235]\n"
          ]
        }
      ]
    },
    {
      "cell_type": "markdown",
      "source": [
        "### **Part G: Select Models**\n",
        "\n",
        "We trained three logistic regression models using different sets of features:\n",
        "\n",
        "1. **Model 1 – All Features**: Included all variables without selection.\n",
        "2. **Model 2 – Manual Features**: Included only selected features based on domain knowledge (`ccs`, `mcs`, `lvr`, `pbcr`, `self`, `black`, and `hir`).\n",
        "3. **Model 3 – Tree-Based Features**: Used top-ranked features based on decision tree importance.\n",
        "\n",
        "#### Model Selection Criteria\n",
        "\n",
        "Each model was evaluated using **5-fold cross-validation** with the **F1 score**. This score helps measure how well the model balances precision and recall, which is useful for imbalanced classification problems.\n",
        "\n",
        "| Model | Feature Selection     | Avg F1 Score | F1 Scores Across Folds                     |\n",
        "|-------|------------------------|--------------|--------------------------------------------|\n",
        "| 1     | All Features           | **0.393**     | [0.375, 0.630, 0.278, 0.447, 0.235]         |\n",
        "| 2     | Manual Features        | 0.388         | [0.333, 0.615, 0.333, 0.421, 0.235]         |\n",
        "| 3     | Tree-Based Features    | 0.274         | [0.299, 0.537, 0.127, 0.277, 0.100]         |\n",
        "\n",
        "#### Preferred Model\n",
        "\n",
        "We selected **Model 2 (Manual Features)** as our preferred model. It delivered performance close to Model 1 but used fewer features, making it easier to interpret and faster to train.\n",
        "\n",
        "While **Model 1** gave the highest F1 score, using **all features can be risky**. It may lead to:\n",
        "- **Overfitting**, especially if some features are irrelevant or noisy.\n",
        "- **Multicollinearity**, where correlated variables confuse the model.\n",
        "- **Unstable performance**, especially when applied to different datasets.\n",
        "\n",
        "#### Test Set Evaluation\n",
        "\n",
        "We tested Model 2 on the unseen test set, and it performed consistently with the training results. This confirmed its generalizability and made it a strong choice for real-world predictions.\n",
        "\n",
        "**Conclusion**: Model 2 is preferred for its balance of simplicity, interpretability, and solid performance.\n"
      ],
      "metadata": {
        "id": "sSbIwWNnV0A7"
      }
    },
    {
      "cell_type": "markdown",
      "source": [
        "### **Part H: Final Reflection and Conclusion**\n",
        "\n",
        "In this project, we worked with the Boston HMDA (Home Mortgage Disclosure Act) dataset to explore factors that influence mortgage application denials. The project was broken down into multiple steps, each building toward creating and evaluating predictive models.\n",
        "\n",
        "We started by loading the dataset and performing **initial data exploration**. We identified issues such as missing values, incorrect column names, and redundant index columns. These were addressed through **data cleaning**, including renaming columns to make them more understandable, converting categorical variables into numerical formats, and filling in missing values using the mode (most common value).\n",
        "\n",
        "Next, we performed **Exploratory Data Analysis (EDA)**. We looked at the distributions of numeric and categorical variables to understand how different financial and demographic factors relate to mortgage outcomes. Visualizations helped highlight trends such as the impact of credit scores, debt-to-income ratios, and race on mortgage decisions.\n",
        "\n",
        "In **Part 3**, we handled missing data, removed unnecessary columns, and ensured all features were in a usable format. We also created a summary table that explained what each variable represents, making the dataset easier to interpret.\n",
        "\n",
        "In **Part 4**, we finalized our cleaned dataset and confirmed that all columns were correctly formatted, with no more missing values or typos. We then moved on to modeling.\n",
        "\n",
        "For **Part 5**, we built and evaluated three logistic regression models:\n",
        "- **Model 1** used all features from the dataset.\n",
        "- **Model 2** used a manually selected subset of important features.\n",
        "- **Model 3** used features ranked by a decision tree model based on feature importance.\n",
        "\n",
        "We applied **5-fold cross-validation** to evaluate model performance using the **F1 score**, which balances precision and recall. While Model 1 had the highest average F1 score, it came with potential downsides such as overfitting and including irrelevant features. **Model 2** performed nearly as well but with fewer, more meaningful variables—making it our preferred model for real-world use.\n",
        "\n",
        "In **Part 6**, we discussed our model selection criteria and evaluation The test results confirmed that Model 2 was reliable and consistent, validating our decision to focus on a smaller, cleaner feature set.\n",
        "\n",
        "---\n",
        "\n",
        "### Final Thoughts\n",
        "\n",
        "This project showed the importance of **cleaning data**, **understanding features**, and **selecting variables carefully**. We found that some variables—like credit scores, loan-to-value ratio, public bad credit records, and race—have a strong influence on mortgage outcomes. By combining thoughtful preprocessing with clear model evaluation, we were able to build a model that is both interpretable and effective.\n",
        "\n"
      ],
      "metadata": {
        "id": "boMtAxgGaWpt"
      }
    }
  ]
}